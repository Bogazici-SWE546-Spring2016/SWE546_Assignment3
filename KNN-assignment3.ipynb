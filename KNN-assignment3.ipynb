{
 "cells": [
  {
   "cell_type": "code",
   "execution_count": null,
   "metadata": {
    "collapsed": true
   },
   "outputs": [],
   "source": [
    "SWE 546 - Assignment 3\n",
    "Student: Mustafa Atik <m"
   ]
  },
  {
   "cell_type": "code",
   "execution_count": 10,
   "metadata": {
    "collapsed": true
   },
   "outputs": [],
   "source": [
    "import numpy as np\n",
    "import pandas as pd\n",
    "from matplotlib import pyplot as plt\n",
    "%matplotlib inline"
   ]
  },
  {
   "cell_type": "code",
   "execution_count": 31,
   "metadata": {
    "collapsed": false
   },
   "outputs": [
    {
     "data": {
      "text/html": [
       "<div>\n",
       "<table border=\"1\" class=\"dataframe\">\n",
       "  <thead>\n",
       "    <tr style=\"text-align: right;\">\n",
       "      <th></th>\n",
       "      <th>sl</th>\n",
       "      <th>sw</th>\n",
       "      <th>pl</th>\n",
       "      <th>pw</th>\n",
       "      <th>c</th>\n",
       "    </tr>\n",
       "  </thead>\n",
       "  <tbody>\n",
       "    <tr>\n",
       "      <th>39</th>\n",
       "      <td>5.1</td>\n",
       "      <td>3.4</td>\n",
       "      <td>1.5</td>\n",
       "      <td>0.2</td>\n",
       "      <td>1</td>\n",
       "    </tr>\n",
       "    <tr>\n",
       "      <th>138</th>\n",
       "      <td>6.0</td>\n",
       "      <td>3.0</td>\n",
       "      <td>4.8</td>\n",
       "      <td>1.8</td>\n",
       "      <td>3</td>\n",
       "    </tr>\n",
       "    <tr>\n",
       "      <th>21</th>\n",
       "      <td>5.1</td>\n",
       "      <td>3.7</td>\n",
       "      <td>1.5</td>\n",
       "      <td>0.4</td>\n",
       "      <td>1</td>\n",
       "    </tr>\n",
       "    <tr>\n",
       "      <th>58</th>\n",
       "      <td>6.6</td>\n",
       "      <td>2.9</td>\n",
       "      <td>4.6</td>\n",
       "      <td>1.3</td>\n",
       "      <td>2</td>\n",
       "    </tr>\n",
       "    <tr>\n",
       "      <th>87</th>\n",
       "      <td>6.3</td>\n",
       "      <td>2.3</td>\n",
       "      <td>4.4</td>\n",
       "      <td>1.3</td>\n",
       "      <td>2</td>\n",
       "    </tr>\n",
       "    <tr>\n",
       "      <th>19</th>\n",
       "      <td>5.1</td>\n",
       "      <td>3.8</td>\n",
       "      <td>1.5</td>\n",
       "      <td>0.3</td>\n",
       "      <td>1</td>\n",
       "    </tr>\n",
       "    <tr>\n",
       "      <th>140</th>\n",
       "      <td>6.7</td>\n",
       "      <td>3.1</td>\n",
       "      <td>5.6</td>\n",
       "      <td>2.4</td>\n",
       "      <td>3</td>\n",
       "    </tr>\n",
       "    <tr>\n",
       "      <th>69</th>\n",
       "      <td>5.6</td>\n",
       "      <td>2.5</td>\n",
       "      <td>3.9</td>\n",
       "      <td>1.1</td>\n",
       "      <td>2</td>\n",
       "    </tr>\n",
       "    <tr>\n",
       "      <th>66</th>\n",
       "      <td>5.6</td>\n",
       "      <td>3.0</td>\n",
       "      <td>4.5</td>\n",
       "      <td>1.5</td>\n",
       "      <td>2</td>\n",
       "    </tr>\n",
       "    <tr>\n",
       "      <th>54</th>\n",
       "      <td>6.5</td>\n",
       "      <td>2.8</td>\n",
       "      <td>4.6</td>\n",
       "      <td>1.5</td>\n",
       "      <td>2</td>\n",
       "    </tr>\n",
       "  </tbody>\n",
       "</table>\n",
       "</div>"
      ],
      "text/plain": [
       "      sl   sw   pl   pw  c\n",
       "39   5.1  3.4  1.5  0.2  1\n",
       "138  6.0  3.0  4.8  1.8  3\n",
       "21   5.1  3.7  1.5  0.4  1\n",
       "58   6.6  2.9  4.6  1.3  2\n",
       "87   6.3  2.3  4.4  1.3  2\n",
       "19   5.1  3.8  1.5  0.3  1\n",
       "140  6.7  3.1  5.6  2.4  3\n",
       "69   5.6  2.5  3.9  1.1  2\n",
       "66   5.6  3.0  4.5  1.5  2\n",
       "54   6.5  2.8  4.6  1.5  2"
      ]
     },
     "execution_count": 31,
     "metadata": {},
     "output_type": "execute_result"
    }
   ],
   "source": [
    "df = pd.read_csv(\"iris.txt\", sep=\" \")\n",
    "df = df.sample(frac=1)\n",
    "df.sample(10)"
   ]
  },
  {
   "cell_type": "markdown",
   "metadata": {},
   "source": [
    "### Preparing training and test data\n",
    "Since the df is shuffled, it is safe to use the end side of *df* as test data. The first 120 items will be used as training data, while the last 30 items will be the test data."
   ]
  },
  {
   "cell_type": "code",
   "execution_count": 32,
   "metadata": {
    "collapsed": false
   },
   "outputs": [],
   "source": [
    "features = np.hstack([\n",
    "        np.matrix(df.sl).T[:120], \n",
    "        np.matrix(df.sw).T[:120],\n",
    "        np.matrix(df.pl).T[:120],\n",
    "        np.matrix(df.pw).T[:120]])\n",
    "classes = np.matrix(df.c).T[:120]\n",
    "\n",
    "testData = np.hstack([\n",
    "        np.matrix(df.sl).T[120:], \n",
    "        np.matrix(df.sw).T[120:],\n",
    "        np.matrix(df.pl).T[120:],\n",
    "        np.matrix(df.pw).T[120:],\n",
    "        np.matrix(df.c).T[120:]])"
   ]
  },
  {
   "cell_type": "code",
   "execution_count": 33,
   "metadata": {
    "collapsed": false
   },
   "outputs": [],
   "source": [
    "class KNN(object):\n",
    "    \"\"\"\n",
    "    k-nearest neighbor classifier\n",
    "    \"\"\"\n",
    "    \n",
    "    def __init__(self, features, classes):\n",
    "        super(KNN, self).__init__()\n",
    "        self.features = features\n",
    "        self.classes = classes\n",
    "    \n",
    "    @staticmethod\n",
    "    def elect(neighbors):\n",
    "        neighbors = np.array(neighbors)\n",
    "        classes, counts = np.unique(neighbors[:,1], return_counts=True)\n",
    "        return classes[np.argmax(counts)]\n",
    "    \n",
    "    def classify(self, x, k=3):\n",
    "        # calculating error for each row, end up with a 1xn errors matrix.\n",
    "        errors = np.sum(np.power(self.features - x, 2), axis=1)\n",
    "\n",
    "        neighbors = []\n",
    "        \n",
    "        # finding the nearest neighbours\n",
    "        minInd = 0\n",
    "        for i in range(k):\n",
    "            for j in range(len(errors)):\n",
    "                if errors[j] <= errors[minInd]:\n",
    "                    minInd = j\n",
    "\n",
    "            neighbors.append([\n",
    "                    float(errors[minInd]), \n",
    "                    float(self.classes[minInd])])\n",
    "            errors[minInd] = np.inf\n",
    "        \n",
    "        winnerClass = KNN.elect(neighbors)\n",
    "        return winnerClass\n",
    "    \n",
    "    def getAccuracy(self, testData, k=3):\n",
    "        corrects = 0\n",
    "        colsNumber = testData.shape[1]\n",
    "        classInd = colsNumber - 1\n",
    "\n",
    "        for i in testData:\n",
    "            actual =  float(i[:,classInd])\n",
    "            predicted = self.classify(i[:,0:classInd], k)\n",
    "            if actual == predicted:\n",
    "                corrects += 1\n",
    "        return float(corrects) / len(testData)"
   ]
  },
  {
   "cell_type": "code",
   "execution_count": 34,
   "metadata": {
    "collapsed": false
   },
   "outputs": [],
   "source": [
    "def test(features, classes, testData):\n",
    "    knn = KNN(features, classes)\n",
    "    accuracies = np.array([])\n",
    "    krange = 8\n",
    "    for i in range(1, krange):\n",
    "        accuracy = knn.getAccuracy(testData, i)\n",
    "        accuracies = np.append(accuracies, (i, accuracy))\n",
    "\n",
    "    accuracies = np.reshape(accuracies, (krange - 1 , -1))\n",
    "    plt.plot(accuracies[:,0], accuracies[:,1])\n",
    "    plt.xlabel(\"k\")\n",
    "    plt.ylabel(\"accuracy\")\n",
    "    plt.show()\n",
    "\n",
    "def evaluate(features, classes, testData, k=3):\n",
    "    knn = KNN(features, classes)\n",
    "    accuracies = np.array([])\n",
    "    \n",
    "    a = {\n",
    "        \"fpositive\": 0.0,\n",
    "        \"tpositive\": 0.0,\n",
    "        \"fnegative\": 0.0,\n",
    "        \"tnegative\": 0.0\n",
    "    }\n",
    "    \n",
    "    for i in range(len(classes)):\n",
    "        actual = int(classes[i])\n",
    "        predicted = knn.classify(features[i], k)\n",
    "        if predicted == actual:\n",
    "            a[\"tpositive\"] += 1\n",
    "        elif predicted == 1:\n",
    "            a[\"fpositive\"] += 1\n",
    "        elif actual == 1:\n",
    "            a[\"fnegative\"] += 1\n",
    "        else:\n",
    "            a[\"tnegative\"] += 1\n",
    "\n",
    "    return a\n"
   ]
  },
  {
   "cell_type": "code",
   "execution_count": 35,
   "metadata": {
    "collapsed": false
   },
   "outputs": [],
   "source": [
    "def normalize(data):\n",
    "    data = np.copy(data)\n",
    "    colNumber = data.shape[1]\n",
    "    for coln in range(colNumber):\n",
    "        col = data[:,coln]\n",
    "        cmean = np.mean(col)\n",
    "        cmax = np.amax(col)\n",
    "        cmin = np.amin(col)\n",
    "        data[:,coln] = (data[:,coln] - cmin) / (cmax - cmin)\n",
    "    return data"
   ]
  },
  {
   "cell_type": "markdown",
   "metadata": {},
   "source": [
    "### Testing the classifier with all the features, without normalization"
   ]
  },
  {
   "cell_type": "code",
   "execution_count": 36,
   "metadata": {
    "collapsed": false
   },
   "outputs": [
    {
     "data": {
      "image/png": "[encoded data removed]",
      "text/plain": [
       "<matplotlib.figure.Figure at 0x107095090>"
      ]
     },
     "metadata": {},
     "output_type": "display_data"
    }
   ],
   "source": [
    "test(features, classes, testData)"
   ]
  },
  {
   "cell_type": "markdown",
   "metadata": {},
   "source": [
    "### using only the normalized features sl and sw"
   ]
  },
  {
   "cell_type": "code",
   "execution_count": 37,
   "metadata": {
    "collapsed": false
   },
   "outputs": [
    {
     "data": {
      "image/png": "[encoded data removed]",
      "text/plain": [
       "<matplotlib.figure.Figure at 0x107624bd0>"
      ]
     },
     "metadata": {},
     "output_type": "display_data"
    }
   ],
   "source": [
    "test(\n",
    "    normalize(features[:,0:2]), # features\n",
    "    classes,                    # classes\n",
    "    np.hstack([normalize(testData[:,0:2]), testData[:,4]]) # test data\n",
    "    )"
   ]
  },
  {
   "cell_type": "markdown",
   "metadata": {},
   "source": [
    "### using only the normalized features pl and pw"
   ]
  },
  {
   "cell_type": "code",
   "execution_count": 38,
   "metadata": {
    "collapsed": false
   },
   "outputs": [
    {
     "data": {
      "image/png": "[encoded data removed]",
      "text/plain": [
       "<matplotlib.figure.Figure at 0x107746a50>"
      ]
     },
     "metadata": {},
     "output_type": "display_data"
    }
   ],
   "source": [
    "test(\n",
    "    normalize(features[:,2:4]), # features\n",
    "    classes,                    # classes\n",
    "    np.hstack([normalize(testData[:,2:4]), testData[:,4]]) # test data\n",
    "    )"
   ]
  },
  {
   "cell_type": "markdown",
   "metadata": {},
   "source": [
    "### using only the unnormalized features pl and pw"
   ]
  },
  {
   "cell_type": "code",
   "execution_count": 39,
   "metadata": {
    "collapsed": false
   },
   "outputs": [
    {
     "data": {
      "image/png": "[encoded data removed]",
      "text/plain": [
       "<matplotlib.figure.Figure at 0x107874110>"
      ]
     },
     "metadata": {},
     "output_type": "display_data"
    }
   ],
   "source": [
    "test(\n",
    "    features[:,2:4], # features\n",
    "    classes,                    # classes\n",
    "    np.hstack([testData[:,2:4], testData[:,4]]) # test data\n",
    "    )"
   ]
  },
  {
   "cell_type": "markdown",
   "metadata": {},
   "source": [
    "### Recall and precision\n",
    "\n",
    "- recall = TP / (TP + FN)\n",
    "- precision = TP / (TP + FP)\n"
   ]
  },
  {
   "cell_type": "code",
   "execution_count": 40,
   "metadata": {
    "collapsed": false
   },
   "outputs": [
    {
     "name": "stdout",
     "output_type": "stream",
     "text": [
      "precision:  1.0\n",
      "recall:  1.0\n"
     ]
    }
   ],
   "source": [
    "a = evaluate(features, classes, testData, 5)\n",
    "print \"precision: \", a[\"tpositive\"] / (a[\"tpositive\"] + a[\"fpositive\"])\n",
    "print \"recall: \", a[\"tpositive\"] / (a[\"tpositive\"] + a[\"fnegative\"])"
   ]
  },
  {
   "cell_type": "code",
   "execution_count": null,
   "metadata": {
    "collapsed": true
   },
   "outputs": [],
   "source": []
  }
 ],
 "metadata": {
  "kernelspec": {
   "display_name": "Python 2",
   "language": "python",
   "name": "python2"
  },
  "language_info": {
   "codemirror_mode": {
    "name": "ipython",
    "version": 2
   },
   "file_extension": ".py",
   "mimetype": "text/x-python",
   "name": "python",
   "nbconvert_exporter": "python",
   "pygments_lexer": "ipython2",
   "version": "2.7.10"
  }
 },
 "nbformat": 4,
 "nbformat_minor": 0
}
