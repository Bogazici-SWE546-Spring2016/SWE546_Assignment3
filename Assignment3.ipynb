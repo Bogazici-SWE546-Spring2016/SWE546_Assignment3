{
 "cells": [
  {
   "cell_type": "code",
   "execution_count": 3,
   "metadata": {
    "collapsed": false
   },
   "outputs": [],
   "source": [
    "%matplotlib inline\n",
    "import copy\n",
    "import numpy as np\n",
    "import pandas as pd\n",
    "import matplotlib as mpl\n",
    "import matplotlib.pylab as plt\n",
    "from operator import itemgetter\n",
    "\n",
    "df_iris = pd.read_csv(u'iris.txt',sep=' ')\n",
    "\n",
    "sl = np.matrix(df_iris.sl[0:]).T\n",
    "sw = np.matrix(df_iris.sw[0:]).T\n",
    "pl = np.matrix(df_iris.pl[0:]).T\n",
    "pw = np.matrix(df_iris.pw[0:]).T\n",
    "A = np.hstack((sl,sw,pl,pw))\n",
    "c = np.matrix(df_iris.c[0:]).T\n",
    "y = GetYForCategory(c,2)"
   ]
  },
  {
   "cell_type": "code",
   "execution_count": 5,
   "metadata": {
    "collapsed": false
   },
   "outputs": [],
   "source": [
    "def GetYForCategory(c,category):\n",
    "    y = copy.copy(c)\n",
    "    for i in range(len(y)):\n",
    "        if y[i,0] == category :\n",
    "            y[i,0] = 1\n",
    "        else:\n",
    "            y[i,0] = 0\n",
    "    return y\n",
    "\n",
    "def NearestIndices(A,y,k,xInd):\n",
    "    x = A[xInd,:]\n",
    "    mins = [(np.inf,0) for _ in range(k)] #(dist,index)\n",
    "    for i in range(len(A)):\n",
    "        if i == xInd:\n",
    "            continue\n",
    "        dist = Distance(x,A[i,:])\n",
    "        if dist < mins[0][0]:\n",
    "            del mins[0]\n",
    "            mins.append((dist,i))\n",
    "            mins = sorted(mins,key = itemgetter(0),reverse = True)\n",
    "    \n",
    "    return [ind for dist,ind in mins]\n",
    "    \n",
    "def PredictWithIndices(y,inds):\n",
    "    counter = 0.0\n",
    "    for i in range(len(inds)):\n",
    "        counter +=  y[inds[i],0] / len(inds)\n",
    "    if counter > 0.5:\n",
    "        return 1\n",
    "    else:\n",
    "        return 0\n",
    "\n",
    "def ResultsForK(A,y,k):\n",
    "    tp = 0\n",
    "    fp = 0\n",
    "    tn = 0\n",
    "    fn = 0\n",
    "    \n",
    "    for i in range(len(A)):\n",
    "        inds = NearestIndices(A,y,k,i)\n",
    "        pred = PredictWithIndices(y,inds)\n",
    "        if y[i,0] == 1:\n",
    "            if pred == 1:\n",
    "                tp += 1\n",
    "            else:\n",
    "                fn += 1\n",
    "        else:\n",
    "            if pred == 1:\n",
    "                fp += 1 \n",
    "            else:\n",
    "                tn += 1\n",
    "    return tp,fp,tn,fn\n",
    "\n",
    "def PlotResultVsK():\n",
    "    kVals = [i+1 for i in range(10)]\n",
    "    results = np.zeros((len(kVals),4))\n",
    "\n",
    "    for i in kVals:\n",
    "        tpk,fpk,tnk,fnk = ResultsForK(A,y,i)\n",
    "        results[i-1,:] = np.matrix([tpk,fpk,tnk,fnk])\n",
    "    \n",
    "    accuracy = (results[:,0] + results[:,2]) / len(A)\n",
    "    precision = results[:,0] / (results[:,0] + results[:,1])\n",
    "    recall = results[:,0] / (results[:,0] + results[:,3])\n",
    "\n",
    "    plt.plot(kVals,accuracy,'rx-')\n",
    "    plt.plot(kVals,precision,'gx-')\n",
    "    plt.plot(kVals,recall,'yx-')\n",
    "    plt.text(1.2,0.994,'Accuracy',color='r')\n",
    "    plt.text(1.2,0.988,'Precision',color='g')\n",
    "    plt.text(1.2,0.982,'Recall',color='y')\n",
    "    plt.title('Category 2 Results vs K')\n",
    "    plt.ylim(0.9,1)"
   ]
  },
  {
   "cell_type": "code",
   "execution_count": 6,
   "metadata": {
    "collapsed": false,
    "scrolled": true
   },
   "outputs": [
    {
     "data": {
      "image/png": "[encoded data removed]",
      "text/plain": [
       "<matplotlib.figure.Figure at 0x112688908>"
      ]
     },
     "metadata": {},
     "output_type": "display_data"
    }
   ],
   "source": [
    "def Distance(x,y):\n",
    "    dif = np.abs(x-y)\n",
    "    return np.power(np.sum(np.power(dif,2)),1/2)\n",
    "\n",
    "PlotResultVsK()"
   ]
  }
 ],
 "metadata": {
  "kernelspec": {
   "display_name": "Python 3",
   "language": "python",
   "name": "python3"
  },
  "language_info": {
   "codemirror_mode": {
    "name": "ipython",
    "version": 3
   },
   "file_extension": ".py",
   "mimetype": "text/x-python",
   "name": "python",
   "nbconvert_exporter": "python",
   "pygments_lexer": "ipython3",
   "version": "3.5.1"
  }
 },
 "nbformat": 4,
 "nbformat_minor": 0
}
