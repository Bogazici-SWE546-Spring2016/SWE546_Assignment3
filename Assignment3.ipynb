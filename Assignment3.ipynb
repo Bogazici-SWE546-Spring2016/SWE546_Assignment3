{
 "cells": [
  {
   "cell_type": "code",
   "execution_count": 3,
   "metadata": {},
   "outputs": [
    {
     "name": "stdout",
     "output_type": "stream",
     "text": [
      "Neighbor 1\n8.41,8\nNeighbor 2\n8.31,13\nNeighbor 3\n8.14,41\n\n\nResult category: 1\n"
     ]
    }
   ],
   "source": [
    "import numpy as np\n",
    "import pandas as pd\n",
    "import matplotlib.pylab as plt\n",
    "import heapq as hp\n",
    "\n",
    "df = pd.read_csv(u'data/iris.txt', sep=' ')\n",
    "\n",
    "A = np.hstack([np.matrix(df.sl).T, np.matrix(df.sw).T, np.matrix(df.pl).T, np.matrix(df.pw).T])\n",
    "c = np.matrix(df.c).T\n",
    "\n",
    "\n",
    "# Define an object and overload custom comparison operators\n",
    "class tup:\n",
    "    def __init__(self, val, idx):\n",
    "        self.val = val\n",
    "        self.idx = idx\n",
    "        \n",
    "    def __lt__(self, other):\n",
    "        '''Redefine for max-heap'''\n",
    "        return self.val > other.val\n",
    "    \n",
    "    def __le__(self, other):\n",
    "        return self.val <= other.val\n",
    " \n",
    "    def __eq__(self, other):\n",
    "        return self.val == other.val\n",
    "    \n",
    "    def __ne__(self, other):\n",
    "        return self.val != other.val\n",
    "\n",
    "    def __gt__(self, other):\n",
    "        return self.val > other.val\n",
    "\n",
    "    def __ge__(self, other):\n",
    "        return self.val >= other.val\n",
    "\n",
    "    def __str__(self):\n",
    "        return '{:.3},{:d}'.format(self.val, self.idx)\n",
    "\n",
    "\n",
    "def get_maximum_occurrence(heap, c):\n",
    "    categories = []\n",
    "    for t in range(len(heap)):\n",
    "        h = hp.heappop(heap)\n",
    "        print(\"Neighbor %d\" % (t + 1))\n",
    "        print(h)\n",
    "        categories.append(int(c[h.idx]))\n",
    "    return max(set(categories), key=categories.count)\n",
    "        \n",
    "\n",
    "# Search for the nearest K\n",
    "def predict_category_with_k_NN(K, A, test, c):\n",
    "    heap = []\n",
    "    N = A.shape[0]   \n",
    "    \n",
    "    # Fill in the heap with dummy nodes\n",
    "    for i in range(K):\n",
    "        hp.heappush(heap, tup(np.inf, -1))\n",
    "    \n",
    "    # Populate the heap with k nearest items\n",
    "    for i in range(N):\n",
    "        e = A[i, :] - test\n",
    "        e = e.reshape((4, 1))\n",
    "        tp = tup(float(e.T * e), i)\n",
    "        if tp <= heap[0]:\n",
    "            hp.heapreplace(heap, tp)\n",
    "            \n",
    "    return get_maximum_occurrence(heap, c)\n",
    "\n",
    "test = np.mat([1.8, 2.1, 1.3, 1.2])\n",
    "result = predict_category_with_k_NN(3, A, test, c)\n",
    "print(\"\\n\")\n",
    "print(\"Result category: %d\" % result)"
   ]
  }
 ],
 "metadata": {
  "kernelspec": {
   "display_name": "Python 3",
   "language": "python",
   "name": "python3"
  },
  "language_info": {
   "codemirror_mode": {
    "name": "ipython",
    "version": 3.0
   },
   "file_extension": ".py",
   "mimetype": "text/x-python",
   "name": "python",
   "nbconvert_exporter": "python",
   "pygments_lexer": "ipython3",
   "version": "3.3.5"
  }
 },
 "nbformat": 4,
 "nbformat_minor": 0
}