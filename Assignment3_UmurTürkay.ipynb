{
 "cells": [
  {
   "cell_type": "code",
   "execution_count": 13,
   "metadata": {
    "collapsed": false
   },
   "outputs": [],
   "source": [
    "import numpy as np\n",
    "import pandas as pd\n",
    "import heapq as hp\n",
    "from collections import Counter\n",
    "\n",
    "df = pd.read_csv(u'../notes/data/iris.txt',sep=' ')"
   ]
  },
  {
   "cell_type": "code",
   "execution_count": 14,
   "metadata": {
    "collapsed": true
   },
   "outputs": [],
   "source": [
    "A = np.hstack([\n",
    "        np.matrix(df.sl).T, \n",
    "        np.matrix(df.sw).T, \n",
    "        np.matrix(df.pl).T, \n",
    "        np.matrix(df.pw).T])\n",
    "\n",
    "#categories\n",
    "c = np.matrix(df.c).T"
   ]
  },
  {
   "cell_type": "code",
   "execution_count": 15,
   "metadata": {
    "collapsed": true
   },
   "outputs": [],
   "source": [
    "## Use a heap to store the smallest items\n",
    "\n",
    "# Define an object and overload custom comparison operators\n",
    "class tup:\n",
    "    def __init__(self, val, idx):\n",
    "        self.val = val\n",
    "        self.idx = idx\n",
    "        \n",
    "    def __lt__(self, other):\n",
    "        '''Redefine for max-heap'''\n",
    "        return self.val > other.val\n",
    "    \n",
    "    def __le__(self, other):\n",
    "        return self.val <= other.val\n",
    " \n",
    "    def __eq__(self, other):\n",
    "        return self.val == other.val\n",
    "    \n",
    "    def __ne__(self, other):\n",
    "        return self.val != other.val\n",
    "\n",
    "    def __gt__(self, other):\n",
    "        return self.val > other.val\n",
    "\n",
    "    def __ge__(self, other):\n",
    "        return self.val >= other.val\n",
    "\n",
    "    def __str__(self):\n",
    "        return '{:.3},{:d}'.format(self.val,self.idx)"
   ]
  },
  {
   "cell_type": "code",
   "execution_count": 16,
   "metadata": {
    "collapsed": true
   },
   "outputs": [],
   "source": [
    "def findKNearestNeighbour(k,A,testData,c):\n",
    "    heap = []\n",
    "    N = A.shape[0]   \n",
    "    \n",
    "    # Heap with dummy data\n",
    "    for i in range(k):\n",
    "        hp.heappush(heap, tup(np.inf, -1))\n",
    "    \n",
    "    for i in range(N):\n",
    "        e = A[i,:] - testData\n",
    "        e = e.reshape((4,1))\n",
    "        tp = tup(float(e.T*e), i)\n",
    "        if tp <= heap[0]:\n",
    "            hp.heapreplace(heap, tp)\n",
    "\n",
    "    neighbourClasses = []\n",
    "    for element in heap:\n",
    "        neighbourClasses.append(int(c[element.idx]))\n",
    "        \n",
    "    resultingClass = Counter(neighbourClasses).most_common(1)[0][0]\n",
    "    \n",
    "    return heap, resultingClass"
   ]
  },
  {
   "cell_type": "code",
   "execution_count": 17,
   "metadata": {
    "collapsed": false
   },
   "outputs": [
    {
     "data": {
      "text/plain": [
       "matrix([[-4.75851006,  8.92731611, -3.6090935 ,  0.95598091]])"
      ]
     },
     "execution_count": 17,
     "metadata": {},
     "output_type": "execute_result"
    }
   ],
   "source": [
    "#Test data\n",
    "x_test = A[1,:] + 5*np.random.randn(1,4)\n",
    "\n",
    "x_test"
   ]
  },
  {
   "cell_type": "code",
   "execution_count": 18,
   "metadata": {
    "collapsed": false
   },
   "outputs": [
    {
     "data": {
      "text/plain": [
       "1"
      ]
     },
     "execution_count": 18,
     "metadata": {},
     "output_type": "execute_result"
    }
   ],
   "source": [
    "heap, resultingClass = findKNearestNeighbour(10,A,x_test,c)\n",
    "resultingClass"
   ]
  },
  {
   "cell_type": "code",
   "execution_count": 19,
   "metadata": {
    "collapsed": false
   },
   "outputs": [
    {
     "name": "stdout",
     "output_type": "stream",
     "text": [
      "Neighbours Data:\n",
      "0 Distance: 149.21378860128806 , Category:  1\n",
      "1 Distance: 148.21366702603336 , Category:  1\n",
      "2 Distance: 146.93626841615702 , Category:  1\n",
      "3 Distance: 146.04638510450948 , Category:  1\n",
      "4 Distance: 145.86937074786346 , Category:  1\n",
      "5 Distance: 143.6820888263396 , Category:  1\n",
      "6 Distance: 143.65426247788366 , Category:  1\n",
      "7 Distance: 141.35116238246084 , Category:  1\n",
      "8 Distance: 140.09794559868556 , Category:  1\n",
      "9 Distance: 137.77725741841394 , Category:  1\n",
      "\n",
      "Resulting class is 1\n"
     ]
    }
   ],
   "source": [
    "# Display k nearest neighbours\n",
    "print(\"Neighbours Data:\")\n",
    "for j in range(len(heap)):\n",
    "    h = hp.heappop(heap)\n",
    "    print(j,\"Distance:\",h.val,\", Category: \",int(c[h.idx]))\n",
    "print('\\nResulting class is',resultingClass)"
   ]
  },
  {
   "cell_type": "code",
   "execution_count": 20,
   "metadata": {
    "collapsed": true
   },
   "outputs": [],
   "source": [
    "#find performance measures as the number of true positives, false positives, true negatives and false negatives\n",
    "def measurePerformance(A, c, selectedClass):\n",
    "    TP = 0\n",
    "    FP = 0\n",
    "    TN = 0\n",
    "    FN = 0\n",
    "\n",
    "    for i in range(len(c)):\n",
    "        heap,predictedClass = findKNearestNeighbour(10,A,A[i,:],c);\n",
    "        if(int(c[i]) == predictedClass == selectedClass):\n",
    "            TP += 1\n",
    "        elif(predictedClass != int(c[i]) and int(c[i]) == selectedClass):\n",
    "            FP += 1\n",
    "        elif(predictedClass == int(c[i]) and int(c[i]) != selectedClass):\n",
    "            TN += 1\n",
    "        elif(predictedClass != int(c[i]) and int(c[i]) != selectedClass):\n",
    "            FN += 1\n",
    "\n",
    "    return(TP, FP, TN, FN)"
   ]
  },
  {
   "cell_type": "code",
   "execution_count": 21,
   "metadata": {
    "collapsed": false
   },
   "outputs": [
    {
     "name": "stdout",
     "output_type": "stream",
     "text": [
      "Acurracy: 0.98\n",
      "Precision: 0.98\n",
      "Recall: 0.9607843137254902\n"
     ]
    }
   ],
   "source": [
    "TP, FP, TN, FN = measurePerformance(A, c, 2)\n",
    "print('Acurracy:',(1.*(TP+TN)/(FP+TN+TP+FN)))\n",
    "print('Precision:',(1.*TP/(TP+FP)))\n",
    "print('Recall:',(1.*TP/(TP+FN)))"
   ]
  },
  {
   "cell_type": "code",
   "execution_count": null,
   "metadata": {
    "collapsed": true
   },
   "outputs": [],
   "source": []
  }
 ],
 "metadata": {
  "kernelspec": {
   "display_name": "Python 3",
   "language": "python",
   "name": "python3"
  },
  "language_info": {
   "codemirror_mode": {
    "name": "ipython",
    "version": 3
   },
   "file_extension": ".py",
   "mimetype": "text/x-python",
   "name": "python",
   "nbconvert_exporter": "python",
   "pygments_lexer": "ipython3",
   "version": "3.5.1"
  }
 },
 "nbformat": 4,
 "nbformat_minor": 0
}
