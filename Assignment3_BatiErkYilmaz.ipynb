{
 "cells": [
  {
   "cell_type": "code",
   "execution_count": 3,
   "metadata": {
    "collapsed": false
   },
   "outputs": [],
   "source": [
    "import numpy as np\n",
    "import pandas as pd\n",
    "import heapq as hp\n",
    "\n",
    "## Read and prepare the data\n",
    "df_iris = pd.read_csv(u'data/iris.txt',sep=' ')\n",
    "\n",
    "sl = np.matrix(df_iris.sl).T\n",
    "sw = np.matrix(df_iris.sw).T\n",
    "pl = np.matrix(df_iris.pl).T\n",
    "pw = np.matrix(df_iris.pw).T\n",
    "\n",
    "A = np.hstack((sl,sw,pl,pw))\n",
    "c = np.matrix(df_iris.c).T"
   ]
  },
  {
   "cell_type": "code",
   "execution_count": 4,
   "metadata": {
    "collapsed": false
   },
   "outputs": [],
   "source": [
    "class tup:\n",
    "    def __init__(self, val, idx):\n",
    "        self.val = val\n",
    "        self.idx = idx\n",
    "        \n",
    "    def __lt__(self, other):\n",
    "        '''Redefine for max-heap'''\n",
    "        return self.val > other.val\n",
    "    \n",
    "    def __le__(self, other):\n",
    "        return self.val <= other.val\n",
    " \n",
    "    def __eq__(self, other):\n",
    "        return self.val == other.val\n",
    "    \n",
    "    def __ne__(self, other):\n",
    "        return self.val != other.val\n",
    "\n",
    "    def __gt__(self, other):\n",
    "        return self.val > other.val\n",
    "\n",
    "    def __ge__(self, other):\n",
    "        return self.val >= other.val\n",
    "\n",
    "    def __str__(self):\n",
    "        return '{:.3},{:d}'.format(self.val,self.idx)"
   ]
  },
  {
   "cell_type": "code",
   "execution_count": 5,
   "metadata": {
    "collapsed": false
   },
   "outputs": [],
   "source": [
    "def kthNearestNeighbour(k,A,test,c,verbose):\n",
    "    heap = []\n",
    "    N = A.shape[0]   \n",
    "    \n",
    "    # Initialize heap with infinite distance values\n",
    "    for i in range(k):\n",
    "        hp.heappush(heap, tup(np.inf, -1))\n",
    "    \n",
    "    # Populate the heap with k nearest items\n",
    "    for i in range(N):\n",
    "        e = A[i,:] - test\n",
    "        e = e.reshape((4,1))\n",
    "        tp = tup(float(e.T*e), i)\n",
    "        if tp <= heap[0]:\n",
    "            hp.heapreplace(heap, tp)\n",
    "\n",
    "    a = [int(c[x.idx]) for x in heap]\n",
    "    classifiedCategory = max(set(a), key=a.count)\n",
    "            \n",
    "    # Print the k closest neighbours\n",
    "    for t in range(k):\n",
    "        h = hp.heappop(heap)\n",
    "        category = int(c[h.idx])\n",
    "        if(verbose):\n",
    "            print('neighbour {0} - Distance: {1}, Category:{2}'.format(t,h.val,category))\n",
    "    if(verbose):            \n",
    "        print('Classified as type {0}'.format(classifiedCategory))\n",
    "    return classifiedCategory            "
   ]
  },
  {
   "cell_type": "code",
   "execution_count": 6,
   "metadata": {
    "collapsed": false
   },
   "outputs": [
    {
     "name": "stdout",
     "output_type": "stream",
     "text": [
      "neighbour 0 - Distance: 2.06, Category:1\n",
      "neighbour 1 - Distance: 1.65, Category:1\n",
      "neighbour 2 - Distance: 1.57, Category:1\n",
      "neighbour 3 - Distance: 1.39, Category:1\n",
      "neighbour 4 - Distance: 1.38, Category:1\n",
      "Classified as type 1\n"
     ]
    },
    {
     "data": {
      "text/plain": [
       "1"
      ]
     },
     "execution_count": 6,
     "metadata": {},
     "output_type": "execute_result"
    }
   ],
   "source": [
    "test = A[1,:]+np.mat([1,1,1,1]);\n",
    "kthNearestNeighbour(5,A,test,c,True)"
   ]
  },
  {
   "cell_type": "code",
   "execution_count": 7,
   "metadata": {
    "collapsed": false
   },
   "outputs": [
    {
     "name": "stdout",
     "output_type": "stream",
     "text": [
      "Precision is 0.959\n",
      "Recall is 0.94\n",
      "Acurracy is 0.967\n"
     ]
    }
   ],
   "source": [
    "##Classifying Type 2 against 1,3 using KNN\n",
    "def getConditionValues(A,testCategory):\n",
    "    N = A.shape[0]   \n",
    "    truePostive = 0\n",
    "    trueNegative = 0\n",
    "    falseNegative = 0\n",
    "    falsePositive = 0\n",
    "    \n",
    "    for i in range(N):\n",
    "        estimated = kthNearestNeighbour(5,A,A[i,:],c,False);\n",
    "        if(estimated == int(c[i]) and int(c[i]) == testCategory):\n",
    "            truePostive += 1\n",
    "        if(estimated == int(c[i]) and int(c[i]) != testCategory):\n",
    "            trueNegative += 1\n",
    "        if(estimated != int(c[i]) and int(c[i]) == testCategory):\n",
    "            falseNegative += 1\n",
    "        if(estimated != int(c[i]) and estimated == testCategory):\n",
    "            falsePositive += 1\n",
    "            \n",
    "    return truePostive, trueNegative, falseNegative, falsePositive\n",
    "\n",
    "truePostive, trueNegative, falseNegative, falsePositive= getConditionValues(A,2)\n",
    "\n",
    "print('Precision is {:.3}'.format(1.*truePostive/(truePostive+falsePositive)))\n",
    "print('Recall is {:.3}'.format(1.*truePostive/(truePostive+falseNegative)))\n",
    "print('Acurracy is {:.3}'.format(1.*(truePostive+trueNegative)/(falsePositive+trueNegative+truePostive+falseNegative)))"
   ]
  }
 ],
 "metadata": {
  "kernelspec": {
   "display_name": "Python 2",
   "language": "python",
   "name": "python2"
  },
  "language_info": {
   "codemirror_mode": {
    "name": "ipython",
    "version": 2
   },
   "file_extension": ".py",
   "mimetype": "text/x-python",
   "name": "python",
   "nbconvert_exporter": "python",
   "pygments_lexer": "ipython2",
   "version": "2.7.11"
  }
 },
 "nbformat": 4,
 "nbformat_minor": 0
}
