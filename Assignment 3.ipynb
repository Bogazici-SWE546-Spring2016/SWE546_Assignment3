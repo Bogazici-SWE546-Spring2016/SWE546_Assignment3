{
 "cells": [
  {
   "cell_type": "code",
   "execution_count": 63,
   "metadata": {
    "collapsed": false
   },
   "outputs": [],
   "source": [
    "import numpy as np\n",
    "import pandas as pd\n",
    "\n",
    "import matplotlib.pylab as plt\n",
    "\n",
    "\n",
    "df = pd.read_csv(u'../data-mining/data/iris.txt',sep=' ')"
   ]
  },
  {
   "cell_type": "code",
   "execution_count": 64,
   "metadata": {
    "collapsed": false
   },
   "outputs": [
    {
     "data": {
      "text/plain": [
       "matrix([[ 5.1,  3.5,  1.4,  0.2],\n",
       "        [ 4.9,  3. ,  1.4,  0.2],\n",
       "        [ 4.7,  3.2,  1.3,  0.2],\n",
       "        [ 4.6,  3.1,  1.5,  0.2],\n",
       "        [ 5. ,  3.6,  1.4,  0.2]])"
      ]
     },
     "execution_count": 64,
     "metadata": {},
     "output_type": "execute_result"
    }
   ],
   "source": [
    "A = np.hstack([\n",
    "        np.matrix(df.sl).T, \n",
    "        np.matrix(df.sw).T, \n",
    "        np.matrix(df.pl).T, \n",
    "        np.matrix(df.pw).T])\n",
    "A[:5] # sample view"
   ]
  },
  {
   "cell_type": "code",
   "execution_count": 65,
   "metadata": {
    "collapsed": false
   },
   "outputs": [
    {
     "data": {
      "text/plain": [
       "matrix([[ 12.09592687,   1.46990224,  -7.95584798,  -3.05405899]])"
      ]
     },
     "execution_count": 65,
     "metadata": {},
     "output_type": "execute_result"
    }
   ],
   "source": [
    "c = np.matrix(df.c).T\n",
    "x_test = A[1,:] + 5*np.random.randn(1,4)\n",
    "x_test"
   ]
  },
  {
   "cell_type": "code",
   "execution_count": 66,
   "metadata": {
    "collapsed": true
   },
   "outputs": [],
   "source": [
    "# Use a heap to store the smallest items\n",
    "\n",
    "import heapq as hp\n",
    "\n",
    "# Define an object and overload custom comparison operators\n",
    "class tup:\n",
    "    def __init__(self, val, idx):\n",
    "        self.val = val\n",
    "        self.idx = idx\n",
    "        \n",
    "    def __lt__(self, other):\n",
    "        '''Redefine for max-heap'''\n",
    "        return self.val > other.val\n",
    "    \n",
    "    def __le__(self, other):\n",
    "        return self.val <= other.val\n",
    " \n",
    "    def __eq__(self, other):\n",
    "        return self.val == other.val\n",
    "    \n",
    "    def __ne__(self, other):\n",
    "        return self.val != other.val\n",
    "\n",
    "    def __gt__(self, other):\n",
    "        return self.val > other.val\n",
    "\n",
    "    def __ge__(self, other):\n",
    "        return self.val >= other.val\n",
    "\n",
    "    def __str__(self):\n",
    "        return '{:.3},{:d}'.format(self.val,self.idx)\n",
    "    "
   ]
  },
  {
   "cell_type": "code",
   "execution_count": 67,
   "metadata": {
    "collapsed": true
   },
   "outputs": [],
   "source": [
    "def kNearestNeighbour(A,c,test,k): \n",
    "    heap = []\n",
    "    N = A.shape[0]   \n",
    "     ## Fill in the heap with dummy nodes\n",
    "    for i in range(k):\n",
    "        hp.heappush(heap, tup(np.inf, -1))\n",
    "\n",
    "    for i in range(N):\n",
    "        e = A[i,:]-test\n",
    "        e = e.reshape((4,1))\n",
    "        tp = tup(float(e.T*e), i)\n",
    "        if tp <= heap[0]:\n",
    "            hp.heapreplace(heap, tp)\n",
    "    \n",
    "    categories = []\n",
    "    for j in range(len(heap)):\n",
    "        h = hp.heappop(heap)\n",
    "        categories.append(int(c[h.idx]))\n",
    "    return max(set(categories), key=categories.count)"
   ]
  },
  {
   "cell_type": "code",
   "execution_count": 68,
   "metadata": {
    "collapsed": false
   },
   "outputs": [
    {
     "data": {
      "text/plain": [
       "1"
      ]
     },
     "execution_count": 68,
     "metadata": {},
     "output_type": "execute_result"
    }
   ],
   "source": [
    "result=kNearestNeighbour(A,c,x_test,15)\n",
    "result"
   ]
  },
  {
   "cell_type": "code",
   "execution_count": 71,
   "metadata": {
    "collapsed": true
   },
   "outputs": [],
   "source": [
    "# Recall and Precision Part\n",
    "def calculateMeasures(k, A, category):\n",
    "    false_positive = 0\n",
    "    false_negative = 0\n",
    "    true_positive = 0\n",
    "    true_negative = 0\n",
    "    \n",
    "    \n",
    "    for i in range(len(c)):\n",
    "        result = kNearestNeighbour(A,c, A[i,:],k);\n",
    "        if(result == int(c[i]) and int(c[i]) == category):\n",
    "            true_positive += 1\n",
    "        if(result == int(c[i]) and int(c[i]) != category):\n",
    "            true_negative += 1\n",
    "        if(result != int(c[i]) and int(c[i]) == category):\n",
    "            false_negative += 1\n",
    "        if(result != int(c[i]) and result == category):\n",
    "            false_positive += 1\n",
    "            \n",
    "    precision = true_positive / (true_positive + false_positive) * 100\n",
    "    recall = true_positive / (true_positive + false_negative) * 100\n",
    "    accuracy = (true_positive + true_negative) / (true_positive + true_negative + false_positive + false_negative) * 100\n",
    "        \n",
    "    return (precision, recall, accuracy)"
   ]
  },
  {
   "cell_type": "code",
   "execution_count": 73,
   "metadata": {
    "collapsed": false
   },
   "outputs": [
    {
     "name": "stdout",
     "output_type": "stream",
     "text": [
      "precision: 98.0\n",
      "recall: 98.0\n",
      "accuracy: 98.66666666666667\n"
     ]
    }
   ],
   "source": [
    "precision, recall, accuracy=calculateMeasures(15, A, 2)\n",
    "print('precision:',precision)\n",
    "print('recall:',recall)\n",
    "print('accuracy:',accuracy)"
   ]
  }
 ],
 "metadata": {
  "kernelspec": {
   "display_name": "Python 3",
   "language": "python",
   "name": "python3"
  },
  "language_info": {
   "codemirror_mode": {
    "name": "ipython",
    "version": 3
   },
   "file_extension": ".py",
   "mimetype": "text/x-python",
   "name": "python",
   "nbconvert_exporter": "python",
   "pygments_lexer": "ipython3",
   "version": "3.5.1"
  }
 },
 "nbformat": 4,
 "nbformat_minor": 0
}
