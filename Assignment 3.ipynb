{
 "cells": [
  {
   "cell_type": "code",
   "execution_count": 1,
   "metadata": {
    "collapsed": false
   },
   "outputs": [],
   "source": [
    "import numpy as np\n",
    "import pandas as pd\n",
    "import matplotlib.pylab as plt\n",
    "from collections import Counter\n",
    "\n",
    "#Iris Dataset\n",
    "df = pd.read_csv(u'iris.txt',sep=' ')\n"
   ]
  },
  {
   "cell_type": "code",
   "execution_count": 2,
   "metadata": {
    "collapsed": true
   },
   "outputs": [],
   "source": [
    "#k nearest\n",
    "k = 20 \n",
    "#Dataset Matrix\n",
    "A = np.hstack([\n",
    "        np.matrix(df.sl).T, \n",
    "        np.matrix(df.sw).T, \n",
    "        np.matrix(df.pl).T, \n",
    "        np.matrix(df.pw).T])\n",
    "#Classes\n",
    "c = np.matrix(df.c).T"
   ]
  },
  {
   "cell_type": "markdown",
   "metadata": {},
   "source": [
    "### Distance Array:"
   ]
  },
  {
   "cell_type": "code",
   "execution_count": 3,
   "metadata": {
    "collapsed": false
   },
   "outputs": [],
   "source": [
    "#sortedDistanceArray returns the sorted array that holds the distances between A and x(x_test) \n",
    "#and the class of the iris \n",
    "def sortedDistanceArray(A,x):\n",
    "    \n",
    "    N = A.shape[0]\n",
    "    D = np.zeros((N,2))\n",
    "    \n",
    "    for i in range(N):\n",
    "        e = A[i] - x\n",
    "        D[i,0] =  (np.sum(e*e.T))**(1/2.0) #square root for euclidean distance\n",
    "        D[i,1] = (int(c[i])) #holds the iris class \n",
    "     \n",
    "    return sorted(D, key=lambda entry: entry[0]) \n"
   ]
  },
  {
   "cell_type": "markdown",
   "metadata": {},
   "source": [
    "### Example: Finding the class of 51st element of the matrix A:"
   ]
  },
  {
   "cell_type": "code",
   "execution_count": 4,
   "metadata": {
    "collapsed": false
   },
   "outputs": [
    {
     "data": {
      "text/plain": [
       "[array([ 0.,  2.]),\n",
       " array([ 0.26457513,  2.        ]),\n",
       " array([ 0.33166248,  2.        ]),\n",
       " array([ 0.43588989,  2.        ]),\n",
       " array([ 0.45825757,  2.        ]),\n",
       " array([ 0.51961524,  2.        ]),\n",
       " array([ 0.53851648,  2.        ]),\n",
       " array([ 0.55677644,  2.        ]),\n",
       " array([ 0.64031242,  2.        ]),\n",
       " array([ 0.65574385,  2.        ]),\n",
       " array([ 0.73484692,  2.        ]),\n",
       " array([ 0.78740079,  2.        ]),\n",
       " array([ 0.87749644,  3.        ]),\n",
       " array([ 0.90553851,  3.        ]),\n",
       " array([ 0.92736185,  2.        ]),\n",
       " array([ 0.9486833,  2.       ]),\n",
       " array([ 0.9486833,  3.       ]),\n",
       " array([ 0.9486833,  2.       ]),\n",
       " array([ 0.96953597,  3.        ]),\n",
       " array([ 0.98488578,  3.        ]),\n",
       " array([ 0.99498744,  3.        ]),\n",
       " array([ 1.,  3.]),\n",
       " array([ 1.00498756,  2.        ]),\n",
       " array([ 1.01488916,  2.        ]),\n",
       " array([ 1.02469508,  3.        ]),\n",
       " array([ 1.04403065,  3.        ]),\n",
       " array([ 1.05830052,  2.        ]),\n",
       " array([ 1.06770783,  2.        ]),\n",
       " array([ 1.08166538,  3.        ]),\n",
       " array([ 1.09087121,  3.        ]),\n",
       " array([ 1.1,  3. ]),\n",
       " array([ 1.1,  3. ]),\n",
       " array([ 1.1045361,  3.       ]),\n",
       " array([ 1.14891253,  3.        ]),\n",
       " array([ 1.15325626,  3.        ]),\n",
       " array([ 1.17473401,  2.        ]),\n",
       " array([ 1.18321596,  2.        ]),\n",
       " array([ 1.20415946,  2.        ]),\n",
       " array([ 1.21243557,  2.        ]),\n",
       " array([ 1.22882057,  2.        ]),\n",
       " array([ 1.23693169,  3.        ]),\n",
       " array([ 1.24498996,  3.        ]),\n",
       " array([ 1.25299641,  3.        ]),\n",
       " array([ 1.26095202,  3.        ]),\n",
       " array([ 1.3,  2. ]),\n",
       " array([ 1.34907376,  3.        ]),\n",
       " array([ 1.34907376,  3.        ]),\n",
       " array([ 1.37477271,  3.        ]),\n",
       " array([ 1.37840488,  2.        ]),\n",
       " array([ 1.3820275,  3.       ]),\n",
       " array([ 1.396424,  3.      ]),\n",
       " array([ 1.40356688,  3.        ]),\n",
       " array([ 1.40712473,  3.        ]),\n",
       " array([ 1.40712473,  3.        ]),\n",
       " array([ 1.40712473,  3.        ]),\n",
       " array([ 1.42126704,  2.        ]),\n",
       " array([ 1.42828569,  2.        ]),\n",
       " array([ 1.43178211,  2.        ]),\n",
       " array([ 1.44913767,  3.        ]),\n",
       " array([ 1.44913767,  3.        ]),\n",
       " array([ 1.44913767,  3.        ]),\n",
       " array([ 1.46287388,  3.        ]),\n",
       " array([ 1.48660687,  2.        ]),\n",
       " array([ 1.48996644,  2.        ]),\n",
       " array([ 1.5132746,  3.       ]),\n",
       " array([ 1.51986842,  3.        ]),\n",
       " array([ 1.52643375,  2.        ]),\n",
       " array([ 1.52970585,  3.        ]),\n",
       " array([ 1.53948043,  2.        ]),\n",
       " array([ 1.53948043,  2.        ]),\n",
       " array([ 1.57162336,  2.        ]),\n",
       " array([ 1.58745079,  3.        ]),\n",
       " array([ 1.59059737,  3.        ]),\n",
       " array([ 1.62172747,  3.        ]),\n",
       " array([ 1.62788206,  2.        ]),\n",
       " array([ 1.62788206,  2.        ]),\n",
       " array([ 1.65529454,  2.        ]),\n",
       " array([ 1.66132477,  3.        ]),\n",
       " array([ 1.70293864,  3.        ]),\n",
       " array([ 1.78325545,  2.        ]),\n",
       " array([ 1.8,  2. ]),\n",
       " array([ 1.80831413,  2.        ]),\n",
       " array([ 1.81659021,  3.        ]),\n",
       " array([ 1.83575598,  3.        ]),\n",
       " array([ 1.84390889,  3.        ]),\n",
       " array([ 1.88679623,  2.        ]),\n",
       " array([ 1.91049732,  2.        ]),\n",
       " array([ 1.94679223,  2.        ]),\n",
       " array([ 2.01246118,  2.        ]),\n",
       " array([ 2.03224014,  2.        ]),\n",
       " array([ 2.1023796,  3.       ]),\n",
       " array([ 2.12132034,  3.        ]),\n",
       " array([ 2.23830293,  3.        ]),\n",
       " array([ 2.24276615,  3.        ]),\n",
       " array([ 2.3430749,  3.       ]),\n",
       " array([ 2.54950976,  3.        ]),\n",
       " array([ 2.63248932,  2.        ]),\n",
       " array([ 2.65329983,  2.        ]),\n",
       " array([ 2.66082694,  2.        ]),\n",
       " array([ 2.67768557,  2.        ]),\n",
       " array([ 3.50142828,  1.        ]),\n",
       " array([ 3.57910603,  1.        ]),\n",
       " array([ 3.61109402,  1.        ]),\n",
       " array([ 3.61247837,  1.        ]),\n",
       " array([ 3.66469644,  1.        ]),\n",
       " array([ 3.72021505,  1.        ]),\n",
       " array([ 3.76297754,  1.        ]),\n",
       " array([ 3.78681925,  1.        ]),\n",
       " array([ 3.79077828,  1.        ]),\n",
       " array([ 3.80657326,  1.        ]),\n",
       " array([ 3.82753184,  1.        ]),\n",
       " array([ 3.84967531,  1.        ]),\n",
       " array([ 3.87427413,  1.        ]),\n",
       " array([ 3.87556448,  1.        ]),\n",
       " array([ 3.88458492,  1.        ]),\n",
       " array([ 3.88587185,  1.        ]),\n",
       " array([ 3.91535439,  1.        ]),\n",
       " array([ 3.91663121,  1.        ]),\n",
       " array([ 3.92683078,  1.        ]),\n",
       " array([ 3.94715087,  1.        ]),\n",
       " array([ 3.95094925,  1.        ]),\n",
       " array([ 3.95094925,  1.        ]),\n",
       " array([ 3.96484552,  1.        ]),\n",
       " array([ 3.97114593,  1.        ]),\n",
       " array([ 3.97492138,  1.        ]),\n",
       " array([ 3.98748041,  1.        ]),\n",
       " array([ 3.99124041,  1.        ]),\n",
       " array([ 3.99749922,  1.        ]),\n",
       " array([ 4.00374824,  1.        ]),\n",
       " array([ 4.04227659,  1.        ]),\n",
       " array([ 4.04227659,  1.        ]),\n",
       " array([ 4.04351332,  1.        ]),\n",
       " array([ 4.04351332,  1.        ]),\n",
       " array([ 4.04351332,  1.        ]),\n",
       " array([ 4.0607881,  1.       ]),\n",
       " array([ 4.09633983,  1.        ]),\n",
       " array([ 4.10609303,  1.        ]),\n",
       " array([ 4.12067956,  1.        ]),\n",
       " array([ 4.17731971,  1.        ]),\n",
       " array([ 4.17851648,  1.        ]),\n",
       " array([ 4.20594817,  1.        ]),\n",
       " array([ 4.23083916,  1.        ]),\n",
       " array([ 4.25323406,  1.        ]),\n",
       " array([ 4.27668096,  1.        ]),\n",
       " array([ 4.37949769,  1.        ]),\n",
       " array([ 4.44522215,  1.        ]),\n",
       " array([ 4.44971909,  1.        ]),\n",
       " array([ 4.45308882,  1.        ]),\n",
       " array([ 4.5880279,  1.       ]),\n",
       " array([ 4.68828327,  1.        ])]"
      ]
     },
     "execution_count": 4,
     "metadata": {},
     "output_type": "execute_result"
    }
   ],
   "source": [
    "#example: x_test is the 51st element of A matrix\n",
    "x_test = A[50]\n",
    "D = sortedDistanceArray(A, x_test)\n",
    "D"
   ]
  },
  {
   "cell_type": "markdown",
   "metadata": {},
   "source": [
    "### First k element of distance array:"
   ]
  },
  {
   "cell_type": "code",
   "execution_count": 7,
   "metadata": {
    "collapsed": false
   },
   "outputs": [
    {
     "data": {
      "text/plain": [
       "[array([ 0.,  2.]),\n",
       " array([ 0.26457513,  2.        ]),\n",
       " array([ 0.33166248,  2.        ]),\n",
       " array([ 0.43588989,  2.        ]),\n",
       " array([ 0.45825757,  2.        ]),\n",
       " array([ 0.51961524,  2.        ]),\n",
       " array([ 0.53851648,  2.        ]),\n",
       " array([ 0.55677644,  2.        ]),\n",
       " array([ 0.64031242,  2.        ]),\n",
       " array([ 0.65574385,  2.        ]),\n",
       " array([ 0.73484692,  2.        ]),\n",
       " array([ 0.78740079,  2.        ]),\n",
       " array([ 0.87749644,  3.        ]),\n",
       " array([ 0.90553851,  3.        ]),\n",
       " array([ 0.92736185,  2.        ]),\n",
       " array([ 0.9486833,  2.       ]),\n",
       " array([ 0.9486833,  3.       ]),\n",
       " array([ 0.9486833,  2.       ]),\n",
       " array([ 0.96953597,  3.        ]),\n",
       " array([ 0.98488578,  3.        ])]"
      ]
     },
     "execution_count": 7,
     "metadata": {},
     "output_type": "execute_result"
    }
   ],
   "source": [
    "kNNArray = D[:k]\n",
    "kNNArray"
   ]
  },
  {
   "cell_type": "markdown",
   "metadata": {},
   "source": [
    "### The iris class of 51st element:"
   ]
  },
  {
   "cell_type": "code",
   "execution_count": 6,
   "metadata": {
    "collapsed": false
   },
   "outputs": [
    {
     "data": {
      "text/plain": [
       "2.0"
      ]
     },
     "execution_count": 6,
     "metadata": {},
     "output_type": "execute_result"
    }
   ],
   "source": [
    "#count the most common class in the D[:k] array\n",
    "u, indices = np.unique(kNNArray, return_inverse=True)\n",
    "u[np.argmax(np.bincount(indices))]"
   ]
  }
 ],
 "metadata": {
  "kernelspec": {
   "display_name": "Python 3",
   "language": "python",
   "name": "python3"
  },
  "language_info": {
   "codemirror_mode": {
    "name": "ipython",
    "version": 3
   },
   "file_extension": ".py",
   "mimetype": "text/x-python",
   "name": "python",
   "nbconvert_exporter": "python",
   "pygments_lexer": "ipython3",
   "version": "3.5.1"
  }
 },
 "nbformat": 4,
 "nbformat_minor": 0
}
