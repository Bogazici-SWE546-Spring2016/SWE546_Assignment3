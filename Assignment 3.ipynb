{
 "cells": [
  {
   "cell_type": "code",
   "execution_count": 1,
   "metadata": {
    "collapsed": false
   },
   "outputs": [],
   "source": [
    "import numpy as np\n",
    "import pandas as pd\n",
    "import matplotlib.pylab as plt\n",
    "from collections import Counter\n",
    "\n",
    "#Iris Dataset\n",
    "df = pd.read_csv(u'iris.txt',sep=' ')\n"
   ]
  },
  {
   "cell_type": "code",
   "execution_count": 2,
   "metadata": {
    "collapsed": true
   },
   "outputs": [],
   "source": [
    "#k nearest\n",
    "k = 20 \n",
    "#Dataset Matrix\n",
    "A = np.hstack([\n",
    "        np.matrix(df.sl).T, \n",
    "        np.matrix(df.sw).T, \n",
    "        np.matrix(df.pl).T, \n",
    "        np.matrix(df.pw).T])\n",
    "#Classes\n",
    "c = np.matrix(df.c).T"
   ]
  },
  {
   "cell_type": "markdown",
   "metadata": {},
   "source": [
    "### Distance Array:"
   ]
  },
  {
   "cell_type": "code",
   "execution_count": 3,
   "metadata": {
    "collapsed": false
   },
   "outputs": [],
   "source": [
    "#sortedDistanceArray returns the sorted array that holds the distances between A and x(x_test) \n",
    "#and the class of the iris \n",
    "def sortedDistanceArray(A,x):\n",
    "    \n",
    "    N = A.shape[0]\n",
    "    D = np.zeros((N,2))\n",
    "    \n",
    "    for i in range(N):\n",
    "        e = A[i] - x\n",
    "        D[i,0] =  (np.sum(e*e.T))**(1/2.0) #square root for euclidean distance\n",
    "        D[i,1] = (int(c[i])) #holds the iris class \n",
    "     \n",
    "    return sorted(D, key=lambda entry: entry[0]) \n"
   ]
  },
  {
   "cell_type": "markdown",
   "metadata": {},
   "source": [
    "### Example: Finding the class of 51st element of the matrix A:"
   ]
  },
  {
   "cell_type": "code",
   "execution_count": 4,
   "metadata": {
    "collapsed": false
   },
   "outputs": [
    {
     "data": {
      "text/plain": [
       "[array([ 0.,  2.]),\n",
       " array([ 0.26457513,  2.        ]),\n",
       " array([ 0.33166248,  2.        ]),\n",
       " array([ 0.43588989,  2.        ]),\n",
       " array([ 0.45825757,  2.        ]),\n",
       " array([ 0.51961524,  2.        ]),\n",
       " array([ 0.53851648,  2.        ]),\n",
       " array([ 0.55677644,  2.        ]),\n",
       " array([ 0.64031242,  2.        ]),\n",
       " array([ 0.65574385,  2.        ]),\n",
       " array([ 0.73484692,  2.        ]),\n",
       " array([ 0.78740079,  2.        ]),\n",
       " array([ 0.87749644,  3.        ]),\n",
       " array([ 0.90553851,  3.        ]),\n",
       " array([ 0.92736185,  2.        ]),\n",
       " array([ 0.9486833,  2.       ]),\n",
       " array([ 0.9486833,  3.       ]),\n",
       " array([ 0.9486833,  2.       ]),\n",
       " array([ 0.96953597,  3.        ]),\n",
       " array([ 0.98488578,  3.        ])]"
      ]
     },
     "execution_count": 4,
     "metadata": {},
     "output_type": "execute_result"
    }
   ],
   "source": [
    "#example: x_test is the 51st element of A matrix\n",
    "x_test = A[50]\n",
    "D = sortedDistanceArray(A, x_test)[:k] #first k element in sorted distance array\n",
    "D"
   ]
  },
  {
   "cell_type": "markdown",
   "metadata": {},
   "source": [
    "### The iris class of 51st element:"
   ]
  },
  {
   "cell_type": "code",
   "execution_count": 5,
   "metadata": {
    "collapsed": false
   },
   "outputs": [
    {
     "data": {
      "text/plain": [
       "2.0"
      ]
     },
     "execution_count": 5,
     "metadata": {},
     "output_type": "execute_result"
    }
   ],
   "source": [
    "#count the most common class in the array\n",
    "u, indices = np.unique(D, return_inverse=True)\n",
    "u[np.argmax(np.bincount(indices))]"
   ]
  },
  {
   "cell_type": "code",
   "execution_count": null,
   "metadata": {
    "collapsed": false
   },
   "outputs": [],
   "source": [
    "## Use a heap to store the smallest items\n",
    "\n",
    "import heapq as hp\n",
    "\n",
    "# Define an object and overload custom comparison operators\n",
    "class tup:\n",
    "    def __init__(self, val, idx):\n",
    "        self.val = val\n",
    "        self.idx = idx\n",
    "        \n",
    "    def __lt__(self, other):\n",
    "        '''Redefine for max-heap'''\n",
    "        return self.val > other.val\n",
    "    \n",
    "    def __le__(self, other):\n",
    "        return self.val <= other.val\n",
    " \n",
    "    def __eq__(self, other):\n",
    "        return self.val == other.val\n",
    "    \n",
    "    def __ne__(self, other):\n",
    "        return self.val != other.val\n",
    "\n",
    "    def __gt__(self, other):\n",
    "        return self.val > other.val\n",
    "\n",
    "    def __ge__(self, other):\n",
    "        return self.val >= other.val\n",
    "\n",
    "    def __str__(self):\n",
    "        return '{:.3},{:d}'.format(self.val,self.idx)\n",
    "    \n",
    "        \n",
    "## Search for the nearest K   \n",
    "K = 20\n",
    "heap = []\n",
    "N = A.shape[0]   \n",
    "\n",
    "for j in range(N):\n",
    "    heap = []\n",
    "    ## Fill in the heap with dummy nodes\n",
    "    for k in range(K):\n",
    "        hp.heappush(heap, tup(np.inf, -1))\n",
    "\n",
    "    for i in range(N):\n",
    "        if i != j:\n",
    "            e = A[i,:]- A[j,:]\n",
    "            e = e.reshape((4,1))\n",
    "            tp = tup(float(e.T*e), i)\n",
    "            if tp <= heap[0]:\n",
    "                hp.heapreplace(heap, tp)\n",
    "\n",
    "    for t in range(len(heap)):\n",
    "        h = hp.heappop(heap)\n",
    "        print(h, float(c[h.idx]))\n",
    "    print('--'*5)"
   ]
  }
 ],
 "metadata": {
  "kernelspec": {
   "display_name": "Python 3",
   "language": "python",
   "name": "python3"
  },
  "language_info": {
   "codemirror_mode": {
    "name": "ipython",
    "version": 3
   },
   "file_extension": ".py",
   "mimetype": "text/x-python",
   "name": "python",
   "nbconvert_exporter": "python",
   "pygments_lexer": "ipython3",
   "version": "3.5.1"
  }
 },
 "nbformat": 4,
 "nbformat_minor": 0
}
