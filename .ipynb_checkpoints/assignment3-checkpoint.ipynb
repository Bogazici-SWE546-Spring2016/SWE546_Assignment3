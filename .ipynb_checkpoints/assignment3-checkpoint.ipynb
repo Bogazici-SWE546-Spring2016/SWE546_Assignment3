{
 "cells": [
  {
   "cell_type": "code",
   "execution_count": 1,
   "metadata": {
    "collapsed": true
   },
   "outputs": [],
   "source": [
    "import numpy as np\n",
    "import pandas as pd\n",
    "import matplotlib.pylab as plt\n",
    "import heapq as hp"
   ]
  },
  {
   "cell_type": "code",
   "execution_count": 2,
   "metadata": {
    "collapsed": true
   },
   "outputs": [],
   "source": [
    "class IrisModel:\n",
    "    def __init__(self, file_name, seperator=' '):\n",
    "        data = pd.read_csv(u'data/{0}'.format(file_name), sep=seperator)\n",
    "\n",
    "        feature1 = np.matrix(data.sl).T\n",
    "        feature2 = np.matrix(data.sw).T\n",
    "        feature3 = np.matrix(data.pl).T\n",
    "        feature4 = np.matrix(data.pw).T\n",
    "\n",
    "        self.X = np.hstack((feature1, feature2, feature3, feature4))\n",
    "        self.c = np.matrix(data.c).T"
   ]
  },
  {
   "cell_type": "code",
   "execution_count": 3,
   "metadata": {
    "collapsed": true
   },
   "outputs": [],
   "source": [
    "class tup:\n",
    "    def __init__(self, val, idx):\n",
    "        self.val = val\n",
    "        self.idx = idx\n",
    "\n",
    "    def __lt__(self, other):\n",
    "        '''Redefine for max-heap'''\n",
    "        return self.val > other.val\n",
    "\n",
    "    def __le__(self, other):\n",
    "        return self.val <= other.val\n",
    "\n",
    "    def __eq__(self, other):\n",
    "        return self.val == other.val\n",
    "\n",
    "    def __ne__(self, other):\n",
    "        return self.val != other.val\n",
    "\n",
    "    def __gt__(self, other):\n",
    "        return self.val > other.val\n",
    "\n",
    "    def __ge__(self, other):\n",
    "        return self.val >= other.val\n",
    "\n",
    "    def __str__(self):\n",
    "        return '{:.3},{:d}'.format(self.val, self.idx)"
   ]
  },
  {
   "cell_type": "code",
   "execution_count": 4,
   "metadata": {
    "collapsed": true
   },
   "outputs": [],
   "source": [
    "def findMaxOccurrence(heap, c):\n",
    "    categories = []\n",
    "    for t in range(len(heap)):\n",
    "        h = hp.heappop(heap)\n",
    "        categories.append(int(c[h.idx]))\n",
    "    return max(set(categories), key=categories.count)"
   ]
  },
  {
   "cell_type": "code",
   "execution_count": 5,
   "metadata": {
    "collapsed": true
   },
   "outputs": [],
   "source": [
    "def categoryPredictionK_NN(K, A, test, c):\n",
    "    heap = []\n",
    "    N = A.shape[0]\n",
    "\n",
    "    for i in range(K):\n",
    "        hp.heappush(heap, tup(np.inf, -1))\n",
    "\n",
    "    for i in range(N):\n",
    "        e = A[i, :] - test\n",
    "        e = e.reshape((4, 1))\n",
    "        tp = tup(float(e.T * e), i)\n",
    "        if tp <= heap[0]:\n",
    "            hp.heapreplace(heap, tp)\n",
    "\n",
    "    return findMaxOccurrence(heap, c)"
   ]
  },
  {
   "cell_type": "code",
   "execution_count": 6,
   "metadata": {
    "collapsed": true
   },
   "outputs": [],
   "source": [
    "def categoryPrediction(K, A, c, test_category):\n",
    "    true_pos  = 0\n",
    "    true_neg  = 0\n",
    "    false_pos = 0\n",
    "    false_neg = 0\n",
    "\n",
    "    for i in range(50 * (test_category - 1), 100 * (test_category - 1)):\n",
    "        predicted_category = categoryPredictionK_NN(K, np.delete(A, i, axis=0), A[i, :], c)\n",
    "\n",
    "        if predicted_category == int(c[i]):\n",
    "            if int(c[i]) == test_category:\n",
    "                true_pos += 1\n",
    "            else:\n",
    "                true_neg += 1\n",
    "        else:\n",
    "            if int(c[i]) == test_category:\n",
    "                false_pos += 1\n",
    "            else:\n",
    "                false_pos += 1\n",
    "\n",
    "    accuracy = (100. * (true_pos + true_neg)) / (true_pos + true_neg + false_pos + false_neg)\n",
    "    precision = (100. * true_pos) / (true_pos + false_pos)\n",
    "    recall = (100. * true_pos) / (true_pos + false_neg)\n",
    "\n",
    "    return accuracy, precision, recall"
   ]
  },
  {
   "cell_type": "code",
   "execution_count": 7,
   "metadata": {
    "collapsed": false
   },
   "outputs": [
    {
     "name": "stdout",
     "output_type": "stream",
     "text": [
      "Category: 1\n",
      "Accuracy: 94.000000, Precision: 94.000000, Recall: 100.000000\n"
     ]
    }
   ],
   "source": [
    "K = 3\n",
    "test = np.mat([1.8, 2.1, 1.3, 1.2])\n",
    "model = IrisModel('iris.txt')\n",
    "\n",
    "result = categoryPredictionK_NN(K, model.X, test, model.c)\n",
    "accuracy, precision, recall  = categoryPrediction(K, model.X, model.c, 2)\n",
    "\n",
    "print(\"Category: %d\" % result)\n",
    "print(\"Accuracy: %f, Precision: %f, Recall: %f\" % (accuracy, precision, recall))"
   ]
  },
  {
   "cell_type": "code",
   "execution_count": null,
   "metadata": {
    "collapsed": true
   },
   "outputs": [],
   "source": []
  }
 ],
 "metadata": {
  "kernelspec": {
   "display_name": "Python 3",
   "language": "python",
   "name": "python3"
  },
  "language_info": {
   "codemirror_mode": {
    "name": "ipython",
    "version": 3
   },
   "file_extension": ".py",
   "mimetype": "text/x-python",
   "name": "python",
   "nbconvert_exporter": "python",
   "pygments_lexer": "ipython3",
   "version": "3.5.1"
  }
 },
 "nbformat": 4,
 "nbformat_minor": 0
}
