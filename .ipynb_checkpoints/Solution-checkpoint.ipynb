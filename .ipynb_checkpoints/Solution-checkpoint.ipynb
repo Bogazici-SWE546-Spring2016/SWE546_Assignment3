{
 "cells": [
  {
   "cell_type": "code",
   "execution_count": 113,
   "metadata": {
    "collapsed": false
   },
   "outputs": [],
   "source": [
    "import matplotlib.pyplot as plt\n",
    "from sklearn import datasets\n",
    "from sklearn.decomposition import PCA\n",
    "import numpy as np\n",
    "import pandas as pd\n",
    "from scipy.special import expit as sigmoid\n",
    "import math\n",
    "import heapq as hp\n",
    "\n",
    "\n",
    "iris = datasets.load_iris()\n",
    "iris_x = iris.data  # data\n",
    "iris_y = iris.target  # classes"
   ]
  },
  {
   "cell_type": "code",
   "execution_count": 114,
   "metadata": {
    "collapsed": false
   },
   "outputs": [],
   "source": [
    "def distance(A,x):\n",
    "    '''A is a NxD matrix where N is the number of samples and D is\n",
    "       the dimension of the feature set\n",
    "    '''\n",
    "    N = A.shape[0]\n",
    "    d = np.zeros((N,1))\n",
    "    \n",
    "    md = np.inf\n",
    "    \n",
    "    for i in range(N):\n",
    "        e = A[i,:]- x\n",
    "        d[i] = np.sum(e*e.T)\n",
    "        if d[i]<md:\n",
    "            md = d[i]\n",
    "            min_idx = i\n",
    "    \n",
    "    return d, min_idx\n",
    "\n"
   ]
  },
  {
   "cell_type": "code",
   "execution_count": 115,
   "metadata": {
    "collapsed": false
   },
   "outputs": [
    {
     "data": {
      "text/plain": [
       "(150, 4)"
      ]
     },
     "execution_count": 115,
     "metadata": {},
     "output_type": "execute_result"
    }
   ],
   "source": [
    "iris_x.shape"
   ]
  },
  {
   "cell_type": "code",
   "execution_count": 116,
   "metadata": {
    "collapsed": true
   },
   "outputs": [],
   "source": [
    "# Define an object and overload custom comparison operators\n",
    "class tup:\n",
    "    def __init__(self, val, idx):\n",
    "        self.val = val\n",
    "        self.idx = idx\n",
    "        \n",
    "    def __lt__(self, other):\n",
    "        '''Redefine for max-heap'''\n",
    "        return self.val > other.val\n",
    "    \n",
    "    def __le__(self, other):\n",
    "        return self.val <= other.val\n",
    " \n",
    "    def __eq__(self, other):\n",
    "        return self.val == other.val\n",
    "    \n",
    "    def __ne__(self, other):\n",
    "        return self.val != other.val\n",
    "\n",
    "    def __gt__(self, other):\n",
    "        return self.val > other.val\n",
    "\n",
    "    def __ge__(self, other):\n",
    "        return self.val >= other.val\n",
    "\n",
    "    def __str__(self):\n",
    "        return '{:.3},{:d}'.format(self.val,self.idx)"
   ]
  },
  {
   "cell_type": "code",
   "execution_count": 117,
   "metadata": {
    "collapsed": true
   },
   "outputs": [],
   "source": [
    "def euclideanDistance(instance1, instance2, length):\n",
    "    distance = 0\n",
    "    for x in range(length):\n",
    "        distance += pow((instance1[x] - instance2[x]), 2)\n",
    "    return math.sqrt(distance)"
   ]
  },
  {
   "cell_type": "code",
   "execution_count": 118,
   "metadata": {
    "collapsed": true
   },
   "outputs": [],
   "source": [
    "def kNN(k, A, test, classes):\n",
    "    heapSize = k\n",
    "    heap = []\n",
    "    N = A.shape[0]\n",
    "    \n",
    "    for k in range(heapSize):\n",
    "        hp.heappush(heap, tup(np.inf, -1))\n",
    "\n",
    "    for i in range(N):\n",
    "        e = A[i,:] - test\n",
    "        e = e.reshape((4, 1))\n",
    "        tp = tup(float(np.dot(e.T, e)), i)\n",
    "        if tp <= heap[0]:\n",
    "            hp.heapreplace(heap, tp)\n",
    "    \n",
    "    # Find maximum occurence\n",
    "    categories = []\n",
    "    for j in range(len(heap)):\n",
    "        h = hp.heappop(heap)\n",
    "        categories.append(int(iris_y[h.idx]))\n",
    "    return max(set(categories), key=categories.count)"
   ]
  },
  {
   "cell_type": "code",
   "execution_count": 119,
   "metadata": {
    "collapsed": true
   },
   "outputs": [],
   "source": [
    "def predict(k, A, category):   \n",
    "    N = A.shape[0]\n",
    "    false_positive = 0\n",
    "    false_negative = 0\n",
    "    true_positive = 0\n",
    "    true_negative = 0\n",
    "        \n",
    "    for i in range(N):\n",
    "        result = kNN(k, A, A[i,:], category);\n",
    "        if(result == int(iris_y[i]) and int(iris_y[i]) == category):\n",
    "            true_positive += 1\n",
    "        if(result == int(iris_y[i]) and int(iris_y[i]) != category):\n",
    "            true_negative += 1\n",
    "        if(result != int(iris_y[i]) and int(iris_y[i]) == category):\n",
    "            false_negative += 1\n",
    "        if(result != int(iris_y[i]) and result == category):\n",
    "            false_positive += 1\n",
    "            \n",
    "    precision = true_positive / (true_positive + false_positive) * 100\n",
    "    recall = true_positive / (true_positive + false_negative) * 100\n",
    "    accuracy = (true_positive + true_negative) / (true_positive + true_negative + false_positive + false_negative) * 100\n",
    "        \n",
    "    return (true_positive, true_negative, false_positive, false_negative, precision, recall, accuracy)"
   ]
  },
  {
   "cell_type": "code",
   "execution_count": 120,
   "metadata": {
    "collapsed": false
   },
   "outputs": [
    {
     "name": "stdout",
     "output_type": "stream",
     "text": [
      "CLASS 0\n",
      "true_positive:  50\n",
      "true_negative:  97\n",
      "false_positive:  0\n",
      "false_negative:  0\n",
      "precision:  100.0\n",
      "recall:  100.0\n",
      "accuracy:  100.0\n"
     ]
    }
   ],
   "source": [
    "true_positive, true_negative, false_positive, false_negative, precision, recall, accuracy = predict(20,iris_x,0)\n",
    "print(\"CLASS 0\")\n",
    "print(\"true_positive: \", true_positive)\n",
    "print(\"true_negative: \", true_negative)\n",
    "print(\"false_positive: \", false_positive)\n",
    "print(\"false_negative: \", false_negative)\n",
    "print(\"precision: \", precision)\n",
    "print(\"recall: \", recall)\n",
    "print(\"accuracy: \", accuracy)\n"
   ]
  },
  {
   "cell_type": "code",
   "execution_count": 121,
   "metadata": {
    "collapsed": false
   },
   "outputs": [
    {
     "name": "stdout",
     "output_type": "stream",
     "text": [
      "CLASS 1\n",
      "true_positive:  48\n",
      "true_negative:  99\n",
      "false_positive:  1\n",
      "false_negative:  2\n",
      "precision:  97.95918367346938\n",
      "recall:  96.0\n",
      "accuracy:  98.0\n"
     ]
    }
   ],
   "source": [
    "true_positive, true_negative, false_positive, false_negative, precision, recall, accuracy = predict(20,iris_x,1)\n",
    "print(\"CLASS 1\")\n",
    "print(\"true_positive: \", true_positive)\n",
    "print(\"true_negative: \", true_negative)\n",
    "print(\"false_positive: \", false_positive)\n",
    "print(\"false_negative: \", false_negative)\n",
    "print(\"precision: \", precision)\n",
    "print(\"recall: \", recall)\n",
    "print(\"accuracy: \", accuracy)\n"
   ]
  },
  {
   "cell_type": "code",
   "execution_count": 122,
   "metadata": {
    "collapsed": false
   },
   "outputs": [
    {
     "name": "stdout",
     "output_type": "stream",
     "text": [
      "CLASS 2\n",
      "true_positive:  49\n",
      "true_negative:  98\n",
      "false_positive:  2\n",
      "false_negative:  1\n",
      "precision:  96.07843137254902\n",
      "recall:  98.0\n",
      "accuracy:  98.0\n"
     ]
    }
   ],
   "source": [
    "true_positive, true_negative, false_positive, false_negative, precision, recall, accuracy = predict(20,iris_x,2)\n",
    "print(\"CLASS 2\")\n",
    "print(\"true_positive: \", true_positive)\n",
    "print(\"true_negative: \", true_negative)\n",
    "print(\"false_positive: \", false_positive)\n",
    "print(\"false_negative: \", false_negative)\n",
    "print(\"precision: \", precision)\n",
    "print(\"recall: \", recall)\n",
    "print(\"accuracy: \", accuracy)\n"
   ]
  }
 ],
 "metadata": {
  "kernelspec": {
   "display_name": "Python 3",
   "language": "python",
   "name": "python3"
  },
  "language_info": {
   "codemirror_mode": {
    "name": "ipython",
    "version": 3
   },
   "file_extension": ".py",
   "mimetype": "text/x-python",
   "name": "python",
   "nbconvert_exporter": "python",
   "pygments_lexer": "ipython3",
   "version": "3.5.1"
  }
 },
 "nbformat": 4,
 "nbformat_minor": 0
}
