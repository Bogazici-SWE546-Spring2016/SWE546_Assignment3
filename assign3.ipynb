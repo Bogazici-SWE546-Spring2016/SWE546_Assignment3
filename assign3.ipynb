{
  "cells": [
    {
      "cell_type": "code",
      "execution_count": 1,
      "metadata": {
        "collapsed": false,
        "scrolled": true
      },
      "outputs": [],
      "source": [
        "%matplotlib inline\n\n",
        "import numpy as np\n",
        "import pandas as pd\n\n",
        "import matplotlib as mpl\n",
        "import matplotlib.pylab as plt\n\n",
        "import random as rand\n\n\n",
        "CSVContent = pd.read_csv( \"iris.txt\", delim_whitespace=True )\n"
      ]
    },
    {
      "cell_type": "code",
      "execution_count": 2,
      "metadata": {
        "collapsed": false,
        "scrolled": true
      },
      "outputs": [],
      "source": [
        "x = np.hstack( ( np.matrix( CSVContent.sl[0:] ).T, np.matrix( CSVContent.sw[0:] ).T, \n",
        "               np.matrix( CSVContent.pl[0:] ).T, np.matrix( CSVContent.pw[0:] ).T, \n",
        "np.matrix( CSVContent.c[0:] ).T ) )\n"
      ]
    },
    {
      "cell_type": "code",
      "execution_count": 38,
      "metadata": {
        "collapsed": false
      },
      "outputs": [
        {
          "name": "stdout",
          "output_type": "stream",
          "text": [
            "0.906\n0.846\n",
            "\n"
          ]
        }
      ],
      "source": [
        "def calculate_distance( dataSet, test ):\n",
        "    distance = np.zeros( len( x ) )\n",
        "    dataSet = dataSet\n",
        "    for i in range( 0, len( dataSet ) ):\n",
        "        dist = 0\n",
        "        for j in range( 4 ):\n",
        "            dist += pow( ( dataSet[i].item( j ) - test.item( j ) ), 2 )\n",
        "        distance[i] = np.sqrt( dist )\n",
        "    return distance\n",
        "\n",
        "def findResult( vote, Trained, k, length ):\n",
        "    for i in range( length ):\n",
        "        classCounter = np.zeros( k )\n",
        "        for j in range( k ):\n",
        "            if votes[i].item( j ) == 1:\n",
        "                classCounter[0] += 1\n",
        "            elif votes[i][j] == 2:\n",
        "                classCounter[1] += 1\n",
        "            else:\n",
        "                classCounter[2] += 1\n",
        "        maxIndex = np.argmax( classCounter )\n",
        "        Trained[i] = ( maxIndex + 1 )\n",
        "    return Trained\n",
        "\n",
        "def true_positive( Trained, testSet, Original ):\n",
        "    value = 0\n",
        "    for i in range( len( Trained ) ):\n",
        "        if Trained[i] == Original:\n",
        "            value += 1\n",
        "    return value\n",
        "\n",
        "def false_negative( Trained, ControlGroup, Original ):\n",
        "    value = 0\n",
        "    for i in range( len( Trained ) ):\n",
        "        if ControlGroup[i, 4] == Original:\n",
        "            if Trained[i] != Original:\n",
        "                value += 1\n",
        "    return value\n",
        "\n",
        "def true_negative( Trained, ControlGroup, Original ):\n",
        "    value = 0\n",
        "    for i in range( len( Trained ) ):\n",
        "        if ControlGroup[i, 4] != Original:\n",
        "            if Trained[i] != Original:\n",
        "                value += 1\n",
        "    return value\n",
        "\n",
        "def false_positive( Trained, ControlGroup, Original ):\n",
        "    value = 0\n",
        "    for i in range( len( Trained ) ):\n",
        "        if ControlGroup[i, 4] != Original:\n",
        "            if Trained[i] == Original:\n",
        "                value += 1\n",
        "    return value\n",
        "\n",
        "\n",
        "dist = np.zeros( len( x ) )\n",
        "Trained = np.zeros( len( ControlGroup ) )\n",
        "k = 3\n",
        "votes = np.zeros( [len( ControlGroup ), k] )\n",
        "\n",
        "for ii in range( 0, len( ControlGroup ) ):\n",
        "    dist = calculate_distance( x, ControlGroup[ii] )\n",
        "    idx = np.argpartition( dist, k )\n",
        "    for jj in range( k ):\n",
        "        votes[ii][jj] = x[idx[jj]].item( 4 )\n",
        "\n",
        "findResult( votes, Trained, k, len( ControlGroup ) )\n",
        "\n",
        "\n",
        "\n",
        "real_positive = true_positive( Trained, ControlGroup, 2 )\n",
        "trueNeg = true_negative( Trained, ControlGroup, 2 )\n",
        "falsePos = false_positive( Trained, ControlGroup, 2 )\n",
        "falseNeg = false_negative( Trained, ControlGroup, 2 )\n",
        "\n",
        "\n",
        "accuracy = float( ( real_positive + trueNeg ) / \nfloat( real_positive + falsePos + trueNeg + falseNeg ) )\n",
        "precision = float( real_positive / \nfloat( real_positive + falsePos ) )\n",
        "recall = float( real_positive / \nfloat( real_positive + falseNeg ) )\n",
        "accuracy\nprecision"
      ]
    },
    {
      "cell_type": "code",
      "execution_count": null,
      "metadata": {
        "collapsed": true
      },
      "outputs": [],
      "source": []
    }
  ],
  "metadata": {
    "kernelspec": {
      "display_name": "Python 2",
      "language": "python",
      "name": "python2"
    },
    "language_info": {
      "codemirror_mode": {
        "name": "ipython",
        "version": 2
      },
      "file_extension": ".py",
      "mimetype": "text/x-python",
      "name": "python",
      "nbconvert_exporter": "python",
      "pygments_lexer": "ipython2",
      "version": "2.7.11"
    }
  },
  "nbformat": 4,
  "nbformat_minor": 0
}
