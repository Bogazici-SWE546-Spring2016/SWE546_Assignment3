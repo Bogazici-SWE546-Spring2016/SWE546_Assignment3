{
 "cells": [
  {
   "cell_type": "code",
   "execution_count": 4,
   "metadata": {
    "collapsed": true
   },
   "outputs": [],
   "source": [
    "%matplotlib inline\n",
    "import numpy as np\n",
    "import matplotlib as mpl\n",
    "import matplotlib.pylab as plt\n",
    "import pandas as pd\n",
    "import sys"
   ]
  },
  {
   "cell_type": "code",
   "execution_count": 5,
   "metadata": {
    "collapsed": false
   },
   "outputs": [],
   "source": [
    "df_iris = pd.read_csv(u'data/iris.txt',sep=' ')"
   ]
  },
  {
   "cell_type": "code",
   "execution_count": 6,
   "metadata": {
    "collapsed": false
   },
   "outputs": [],
   "source": [
    "A = np.hstack([\n",
    "        np.matrix(df_iris.sl).T, \n",
    "        np.matrix(df_iris.sw).T, \n",
    "        np.matrix(df_iris.pl).T, \n",
    "        np.matrix(df_iris.pw).T])"
   ]
  },
  {
   "cell_type": "code",
   "execution_count": 7,
   "metadata": {
    "collapsed": true
   },
   "outputs": [],
   "source": [
    "c = np.matrix(df_iris.c).T"
   ]
  },
  {
   "cell_type": "code",
   "execution_count": 8,
   "metadata": {
    "collapsed": false
   },
   "outputs": [],
   "source": [
    "## Use a heap to store the smallest items\n",
    "\n",
    "import heapq as hp\n",
    "\n",
    "# Define an object and overload custom comparison operators / tuple object created by @atcemgil\n",
    "class tup:\n",
    "    def __init__(self, val, idx):\n",
    "        self.val = val\n",
    "        self.idx = idx\n",
    "        \n",
    "    def __lt__(self, other):\n",
    "        '''Redefine for max-heap'''\n",
    "        return self.val > other.val\n",
    "    \n",
    "    def __le__(self, other):\n",
    "        return self.val <= other.val\n",
    " \n",
    "    def __eq__(self, other):\n",
    "        return self.val == other.val\n",
    "    \n",
    "    def __ne__(self, other):\n",
    "        return self.val != other.val\n",
    "\n",
    "    def __gt__(self, other):\n",
    "        return self.val > other.val\n",
    "\n",
    "    def __ge__(self, other):\n",
    "        return self.val >= other.val\n",
    "\n",
    "    def __str__(self):\n",
    "        return '{:.3},{:d}'.format(self.val,self.idx)"
   ]
  },
  {
   "cell_type": "code",
   "execution_count": 17,
   "metadata": {
    "collapsed": false
   },
   "outputs": [],
   "source": [
    "def K_NN(k, A, x):\n",
    "    K = k\n",
    "    heap = []\n",
    "    N = A.shape[0]\n",
    "    \n",
    "    dummy_tupple = tup(np.inf, -1) #with value infinity and at index -1\n",
    "    \n",
    "    for i in range(K):\n",
    "        hp.heappush(heap, dummy_tupple)\n",
    "        \n",
    "    for j in range(N):\n",
    "        e = A[j,:]- x\n",
    "        e = e.reshape((4,1))\n",
    "        tp = tup(float(e.T*e), j)\n",
    "        if tp <= heap[0]:\n",
    "            hp.heapreplace(heap, tp)\n",
    "    \n",
    "    for m in range(K):\n",
    "        h = hp.heappop(heap)\n",
    "        print('{:.3}'.format(h.val), float(c[h.idx]))"
   ]
  },
  {
   "cell_type": "markdown",
   "metadata": {},
   "source": [
    "#### The values collected in the heap for any given value can be printed using the K_NN function:"
   ]
  },
  {
   "cell_type": "code",
   "execution_count": 18,
   "metadata": {
    "collapsed": false
   },
   "outputs": [
    {
     "name": "stdout",
     "output_type": "stream",
     "text": [
      "20.9 3.0\n",
      "20.2 3.0\n",
      "17.3 3.0\n"
     ]
    }
   ],
   "source": [
    "x_test = A[1,:] + 5*np.random.randn(1,4)\n",
    "K_NN(3, A, x_test)"
   ]
  },
  {
   "cell_type": "code",
   "execution_count": 117,
   "metadata": {
    "collapsed": false
   },
   "outputs": [],
   "source": [
    "def EvauluteWithLeaveOneOut(k, A, t):\n",
    "    K = k\n",
    "    heap = []\n",
    "    N = A.shape[0]\n",
    "    \n",
    "    W = np.matrix(np.diag([0,0,0,0]))\n",
    "    \n",
    "    false_positive = 0\n",
    "    false_negative = 0\n",
    "    true_positive = 0\n",
    "    true_negative = 0\n",
    "\n",
    "    dummy_tupple = tup(np.inf, -1) #with value infinity and at index -1\n",
    "    \n",
    "    for i in range(K):\n",
    "        hp.heappush(heap, dummy_tupple)\n",
    "    \n",
    "    \n",
    "    for i in range(N):\n",
    "        \n",
    "        ## for every other element than i calculate the heap\n",
    "        for j in range(N):\n",
    "            if i != j:\n",
    "                e = A[i,:] - A[j,:]\n",
    "                e = e.reshape((4,1))\n",
    "                tp = tup(float(e.T*W*e), i)\n",
    "                if tp <= heap[0]:\n",
    "                    hp.heapreplace(heap, tp)\n",
    "        \n",
    "        sumAll = 0\n",
    "        for h in range(K):\n",
    "            sumAll += c[hp.heappop(heap).idx]\n",
    "        \n",
    "        ## reset the heap beacuse values are pushed\n",
    "        for m in range(K):\n",
    "            hp.heappush(heap, dummy_tupple)\n",
    "        \n",
    "        average = round(sumAll.item(0)/K)\n",
    "\n",
    "        if (c[i] == t):\n",
    "            if(average == t):\n",
    "                true_positive += 1\n",
    "            else:\n",
    "                false_negative += 1\n",
    "        else:\n",
    "            if(average == t):\n",
    "                false_positive += 1\n",
    "            else:\n",
    "                true_negative += 1\n",
    "    \n",
    "    print(\" \")\n",
    "    print(\"type\",t, \"versus the others:\")\n",
    "    print(\"accuracy: \")\n",
    "    print(1.*(true_positive+true_negative)/N)\n",
    "    print(\"precision: \")\n",
    "    print(1.*true_positive/(true_positive+false_positive))\n",
    "    print(\"recall: \")\n",
    "    print(1.*true_positive/(true_positive+false_negative))"
   ]
  },
  {
   "cell_type": "markdown",
   "metadata": {},
   "source": [
    "#### calculate accuracy, precision and recall for 1, 2 or 3 versus the others:"
   ]
  },
  {
   "cell_type": "code",
   "execution_count": 118,
   "metadata": {
    "collapsed": false,
    "scrolled": false
   },
   "outputs": [
    {
     "name": "stdout",
     "output_type": "stream",
     "text": [
      " \n",
      "type 1 versus the others:\n",
      "accuracy: \n",
      "1.0\n",
      "precision: \n",
      "1.0\n",
      "recall: \n",
      "1.0\n",
      " \n",
      "type 2 versus the others:\n",
      "accuracy: \n",
      "1.0\n",
      "precision: \n",
      "1.0\n",
      "recall: \n",
      "1.0\n",
      " \n",
      "type 3 versus the others:\n",
      "accuracy: \n",
      "1.0\n",
      "precision: \n",
      "1.0\n",
      "recall: \n",
      "1.0\n"
     ]
    }
   ],
   "source": [
    "EvauluteWithLeaveOneOut(3, A, 1)\n",
    "EvauluteWithLeaveOneOut(3, A, 2)\n",
    "EvauluteWithLeaveOneOut(3, A, 3)"
   ]
  }
 ],
 "metadata": {
  "kernelspec": {
   "display_name": "Python 3",
   "language": "python",
   "name": "python3"
  },
  "language_info": {
   "codemirror_mode": {
    "name": "ipython",
    "version": 3
   },
   "file_extension": ".py",
   "mimetype": "text/x-python",
   "name": "python",
   "nbconvert_exporter": "python",
   "pygments_lexer": "ipython3",
   "version": "3.5.1"
  }
 },
 "nbformat": 4,
 "nbformat_minor": 0
}
