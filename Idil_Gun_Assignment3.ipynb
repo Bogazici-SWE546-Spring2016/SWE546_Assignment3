{
 "cells": [
  {
   "cell_type": "code",
   "execution_count": 1,
   "metadata": {
    "collapsed": true
   },
   "outputs": [],
   "source": [
    "%matplotlib inline\n",
    "import numpy as np\n",
    "import matplotlib as mpl\n",
    "import matplotlib.pylab as plt\n",
    "import pandas as pd\n",
    "import sys"
   ]
  },
  {
   "cell_type": "code",
   "execution_count": 5,
   "metadata": {
    "collapsed": false
   },
   "outputs": [],
   "source": [
    "df_iris = pd.read_csv(u'data/iris.txt',sep=' ')"
   ]
  },
  {
   "cell_type": "code",
   "execution_count": 6,
   "metadata": {
    "collapsed": false
   },
   "outputs": [],
   "source": [
    "A = np.hstack([\n",
    "        np.matrix(df_iris.sl).T, \n",
    "        np.matrix(df_iris.sw).T, \n",
    "        np.matrix(df_iris.pl).T, \n",
    "        np.matrix(df_iris.pw).T])"
   ]
  },
  {
   "cell_type": "code",
   "execution_count": null,
   "metadata": {
    "collapsed": true
   },
   "outputs": [],
   "source": [
    "c = np.matrix(df_iris.c).T"
   ]
  },
  {
   "cell_type": "code",
   "execution_count": 27,
   "metadata": {
    "collapsed": false
   },
   "outputs": [],
   "source": [
    "## Use a heap to store the smallest items\n",
    "\n",
    "import heapq as hp\n",
    "\n",
    "# Define an object and overload custom comparison operators / tuple object created by @atcemgil\n",
    "class tup:\n",
    "    def __init__(self, val, idx):\n",
    "        self.val = val\n",
    "        self.idx = idx\n",
    "        \n",
    "    def __lt__(self, other):\n",
    "        '''Redefine for max-heap'''\n",
    "        return self.val > other.val\n",
    "    \n",
    "    def __le__(self, other):\n",
    "        return self.val <= other.val\n",
    " \n",
    "    def __eq__(self, other):\n",
    "        return self.val == other.val\n",
    "    \n",
    "    def __ne__(self, other):\n",
    "        return self.val != other.val\n",
    "\n",
    "    def __gt__(self, other):\n",
    "        return self.val > other.val\n",
    "\n",
    "    def __ge__(self, other):\n",
    "        return self.val >= other.val\n",
    "\n",
    "    def __str__(self):\n",
    "        return '{:.3},{:d}'.format(self.val,self.idx)"
   ]
  },
  {
   "cell_type": "code",
   "execution_count": 32,
   "metadata": {
    "collapsed": false
   },
   "outputs": [],
   "source": [
    "def K_NN(k, A, x):\n",
    "    K = k\n",
    "    heap = []\n",
    "    N = A.shape[0]\n",
    "    \n",
    "    dummy_tupple = tup(np.inf, -1) #with value infinity and at index -1\n",
    "    \n",
    "    for i in range(K):\n",
    "        hp.heappush(heap, tup(np.inf, -1))\n",
    "        \n",
    "    for j in range(N):\n",
    "        e = A[j,:]- x\n",
    "        e = e.reshape((4,1))\n",
    "        tp = tup(float(e.T*e), j)\n",
    "        if tp <= heap[0]:\n",
    "            hp.heapreplace(heap, tp)\n",
    "    \n",
    "    for m in range(K):\n",
    "        h = hp.heappop(heap)\n",
    "        print('{:.3}'.format(h.val), float(c[h.idx]))"
   ]
  },
  {
   "cell_type": "code",
   "execution_count": 33,
   "metadata": {
    "collapsed": false
   },
   "outputs": [
    {
     "name": "stdout",
     "output_type": "stream",
     "text": [
      "36.7 3.0\n",
      "36.6 3.0\n",
      "36.0 3.0\n"
     ]
    }
   ],
   "source": [
    "x_test = A[1,:] + 5*np.random.randn(1,4)\n",
    "K_NN(3, A, x_test)"
   ]
  },
  {
   "cell_type": "code",
   "execution_count": null,
   "metadata": {
    "collapsed": false
   },
   "outputs": [],
   "source": []
  },
  {
   "cell_type": "code",
   "execution_count": null,
   "metadata": {
    "collapsed": false
   },
   "outputs": [],
   "source": []
  },
  {
   "cell_type": "code",
   "execution_count": null,
   "metadata": {
    "collapsed": true
   },
   "outputs": [],
   "source": []
  },
  {
   "cell_type": "code",
   "execution_count": null,
   "metadata": {
    "collapsed": true
   },
   "outputs": [],
   "source": []
  }
 ],
 "metadata": {
  "kernelspec": {
   "display_name": "Python 3",
   "language": "python",
   "name": "python3"
  },
  "language_info": {
   "codemirror_mode": {
    "name": "ipython",
    "version": 3
   },
   "file_extension": ".py",
   "mimetype": "text/x-python",
   "name": "python",
   "nbconvert_exporter": "python",
   "pygments_lexer": "ipython3",
   "version": "3.5.1"
  }
 },
 "nbformat": 4,
 "nbformat_minor": 0
}
