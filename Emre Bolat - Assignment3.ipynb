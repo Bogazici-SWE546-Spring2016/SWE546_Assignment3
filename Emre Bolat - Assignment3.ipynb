{
 "cells": [
  {
   "cell_type": "code",
   "execution_count": 13,
   "metadata": {
    "collapsed": true
   },
   "outputs": [],
   "source": [
    "import numpy as np\n",
    "import pandas as pd\n",
    "import matplotlib.pylab as plt\n",
    "import heapq as hp"
   ]
  },
  {
   "cell_type": "code",
   "execution_count": 14,
   "metadata": {
    "collapsed": false
   },
   "outputs": [],
   "source": [
    "# Read the data\n",
    "df = pd.read_csv(u'data/iris.txt', sep=' ')\n",
    "\n",
    "A = np.hstack([np.matrix(df.sl).T, np.matrix(df.sw).T, np.matrix(df.pl).T, np.matrix(df.pw).T])\n",
    "c = np.matrix(df.c).T"
   ]
  },
  {
   "cell_type": "code",
   "execution_count": 15,
   "metadata": {
    "collapsed": true
   },
   "outputs": [],
   "source": [
    "#Object definition\n",
    "class tup:\n",
    "    def __init__(self, val, idx):\n",
    "        self.val = val\n",
    "        self.idx = idx\n",
    "        \n",
    "    def __lt__(self, other):\n",
    "        '''Redefine for max-heap'''\n",
    "        return self.val > other.val\n",
    "    \n",
    "    def __le__(self, other):\n",
    "        return self.val <= other.val\n",
    " \n",
    "    def __eq__(self, other):\n",
    "        return self.val == other.val\n",
    "    \n",
    "    def __ne__(self, other):\n",
    "        return self.val != other.val\n",
    "\n",
    "    def __gt__(self, other):\n",
    "        return self.val > other.val\n",
    "\n",
    "    def __ge__(self, other):\n",
    "        return self.val >= other.val\n",
    "\n",
    "    def __str__(self):\n",
    "        return '{:.3},{:d}'.format(self.val, self.idx)"
   ]
  },
  {
   "cell_type": "code",
   "execution_count": 16,
   "metadata": {
    "collapsed": true
   },
   "outputs": [],
   "source": [
    "def maxOccurrence(heap, c):\n",
    "    categories = []\n",
    "    for t in range(len(heap)):\n",
    "        h = hp.heappop(heap)\n",
    "        categories.append(int(c[h.idx]))\n",
    "    return max(set(categories), key=categories.count)\n",
    "\n",
    "def categoryPredictionK_NN(K, A, test, c):\n",
    "    heap = []\n",
    "    N = A.shape[0]   \n",
    "    \n",
    "    # Nodes(dummy)\n",
    "    for i in range(K):\n",
    "        hp.heappush(heap, tup(np.inf, -1))\n",
    "    \n",
    "    # K nearest items\n",
    "    for i in range(N):\n",
    "        e = A[i, :] - test\n",
    "        e = e.reshape((4, 1))\n",
    "        tp = tup(float(e.T * e), i)\n",
    "        if tp <= heap[0]:\n",
    "            hp.heapreplace(heap, tp)\n",
    "            \n",
    "    return maxOccurrence(heap, c)"
   ]
  },
  {
   "cell_type": "code",
   "execution_count": 26,
   "metadata": {
    "collapsed": false
   },
   "outputs": [
    {
     "name": "stdout",
     "output_type": "stream",
     "text": [
      "\n",
      "\n",
      "------ FINAL RESULT ------\n",
      "Category: 1\n",
      "Accuracy 94.000000, Precision 100.000000, Recall 94.000000\n"
     ]
    }
   ],
   "source": [
    "def categoryPredictionFor2(K, A, c, test_category):\n",
    "    t_p = 0\n",
    "    t_n = 0\n",
    "    f_n = 0\n",
    "    f_p = 0\n",
    "    \n",
    "    for i in range(50 * (test_category - 1), 100 * (test_category - 1)):\n",
    "        predicted_category = categoryPredictionK_NN(K, np.delete(A, i, axis=0), A[i, :], c)\n",
    "            \n",
    "        if predicted_category == int(c[i]):\n",
    "            if int(c[i]) == test_category:\n",
    "                t_p += 1\n",
    "            else:\n",
    "                t_n += 1\n",
    "        else:\n",
    "            if int(c[i]) == test_category:\n",
    "                f_n += 1\n",
    "            else:\n",
    "                f_p += 1\n",
    "    \n",
    "    accuracy = (100. * (t_p + t_n)) / (t_p + t_n + f_p + f_n)\n",
    "    precision = (100. * t_p) / (t_p + f_p)\n",
    "    recall = (100. * t_p) / (t_p + f_n)\n",
    "    \n",
    "    print (\"Accuracy %f, Precision %f, Recall %f\" % (accuracy, precision, recall))\n",
    "    \n",
    "K = 3\n",
    "test = np.mat([1.8, 2.1, 1.3, 1.2])\n",
    "result = categoryPredictionK_NN(K, A, test, c)\n",
    "print(\"\\n\")\n",
    "print(\"------ FINAL RESULT ------\")\n",
    "print(\"Category: %d\" % result)\n",
    "\n",
    "categoryPredictionFor2(K, A, c, 2)"
   ]
  },
  {
   "cell_type": "code",
   "execution_count": null,
   "metadata": {
    "collapsed": true
   },
   "outputs": [],
   "source": []
  },
  {
   "cell_type": "code",
   "execution_count": null,
   "metadata": {
    "collapsed": true
   },
   "outputs": [],
   "source": []
  }
 ],
 "metadata": {
  "kernelspec": {
   "display_name": "Python 3",
   "language": "python",
   "name": "python3"
  },
  "language_info": {
   "codemirror_mode": {
    "name": "ipython",
    "version": 3
   },
   "file_extension": ".py",
   "mimetype": "text/x-python",
   "name": "python",
   "nbconvert_exporter": "python",
   "pygments_lexer": "ipython3",
   "version": "3.5.1"
  }
 },
 "nbformat": 4,
 "nbformat_minor": 0
}
