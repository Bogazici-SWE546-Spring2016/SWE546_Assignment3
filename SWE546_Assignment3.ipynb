{
 "cells": [
  {
   "cell_type": "markdown",
   "metadata": {},
   "source": [
    "## NİHAL ER | 2015719069"
   ]
  },
  {
   "cell_type": "markdown",
   "metadata": {},
   "source": [
    "SWE546 - Assignment3 || kNN Algorithm\n",
    "\n",
    "Implement the k nearest neighbor algorithm and measure the accuracy as well as precision and recall for the classification of iris type 2 versus 1,3.\n"
   ]
  },
  {
   "cell_type": "code",
   "execution_count": 150,
   "metadata": {
    "collapsed": false
   },
   "outputs": [],
   "source": [
    "%matplotlib inline\n",
    "import numpy as np\n",
    "import matplotlib.pylab as plt\n",
    "import pandas as pd\n",
    "\n",
    "from sklearn.neighbors import KNeighborsClassifier\n",
    "from sklearn.cross_validation import train_test_split\n",
    "from sklearn import metrics\n",
    "\n",
    "df_iris = pd.read_csv(u'data/iris.txt',sep=' ')"
   ]
  },
  {
   "cell_type": "code",
   "execution_count": 152,
   "metadata": {
    "collapsed": false
   },
   "outputs": [
    {
     "name": "stdout",
     "output_type": "stream",
     "text": [
      "Accuracy is:\n",
      "0.966666666667\n"
     ]
    }
   ],
   "source": [
    "#Define X and Y\n",
    "X= np.hstack((np.matrix(df_iris.sl[0:]).T,np.matrix(df_iris.sw[0:]).T,np.matrix(df_iris.pl[0:]).T,np.matrix(df_iris.pw[0:]).T))\n",
    "Y = np.array(df_iris.c[0:])\n",
    "\n",
    "#Let the test_data_size be 60, train_data_size 90 (%40)  \n",
    "X_train,X_test,Y_train,Y_test = train_test_split(X,Y,test_size = 0.4,random_state=3)\n",
    "\n",
    "# Assume k=15\n",
    "knn=KNeighborsClassifier(n_neighbors=15)\n",
    "\n",
    "#Find accuracy\n",
    "knn.fit(X_train,Y_train)\n",
    "Y_pred = knn.predict(X_test)\n",
    "print (\"Accuracy is:\")\n",
    "print (metrics.accuracy_score(Y_test,Y_pred))\n"
   ]
  },
  {
   "cell_type": "code",
   "execution_count": 156,
   "metadata": {
    "collapsed": false
   },
   "outputs": [
    {
     "name": "stdout",
     "output_type": "stream",
     "text": [
      "For k= 1  | Accuracy is= 0.966666666667\n",
      "For k= 2  | Accuracy is= 0.966666666667\n",
      "For k= 3  | Accuracy is= 0.95\n",
      "For k= 4  | Accuracy is= 0.95\n",
      "For k= 5  | Accuracy is= 0.933333333333\n",
      "For k= 6  | Accuracy is= 0.95\n",
      "For k= 7  | Accuracy is= 0.95\n",
      "For k= 8  | Accuracy is= 0.95\n",
      "For k= 9  | Accuracy is= 0.95\n",
      "For k= 10  | Accuracy is= 0.933333333333\n",
      "For k= 11  | Accuracy is= 0.933333333333\n",
      "For k= 12  | Accuracy is= 0.95\n",
      "For k= 13  | Accuracy is= 0.966666666667\n",
      "For k= 14  | Accuracy is= 0.966666666667\n",
      "For k= 15  | Accuracy is= 0.966666666667\n",
      "For k= 16  | Accuracy is= 0.95\n",
      "For k= 17  | Accuracy is= 0.966666666667\n",
      "For k= 18  | Accuracy is= 0.95\n",
      "For k= 19  | Accuracy is= 0.95\n",
      "For k= 20  | Accuracy is= 0.95\n",
      "For k= 21  | Accuracy is= 0.95\n",
      "For k= 22  | Accuracy is= 0.933333333333\n",
      "For k= 23  | Accuracy is= 0.933333333333\n",
      "For k= 24  | Accuracy is= 0.95\n",
      "For k= 25  | Accuracy is= 0.966666666667\n",
      "For k= 26  | Accuracy is= 0.95\n",
      "For k= 27  | Accuracy is= 0.95\n",
      "For k= 28  | Accuracy is= 0.95\n",
      "For k= 29  | Accuracy is= 0.966666666667\n",
      "For k= 30  | Accuracy is= 0.95\n",
      "For k= 31  | Accuracy is= 0.933333333333\n",
      "For k= 32  | Accuracy is= 0.916666666667\n",
      "For k= 33  | Accuracy is= 0.933333333333\n",
      "For k= 34  | Accuracy is= 0.916666666667\n",
      "For k= 35  | Accuracy is= 0.933333333333\n",
      "For k= 36  | Accuracy is= 0.883333333333\n",
      "For k= 37  | Accuracy is= 0.916666666667\n",
      "For k= 38  | Accuracy is= 0.883333333333\n",
      "For k= 39  | Accuracy is= 0.866666666667\n",
      "For k= 40  | Accuracy is= 0.883333333333\n",
      "For k= 41  | Accuracy is= 0.9\n",
      "For k= 42  | Accuracy is= 0.916666666667\n",
      "For k= 43  | Accuracy is= 0.9\n",
      "For k= 44  | Accuracy is= 0.9\n",
      "For k= 45  | Accuracy is= 0.883333333333\n",
      "For k= 46  | Accuracy is= 0.85\n",
      "For k= 47  | Accuracy is= 0.883333333333\n",
      "For k= 48  | Accuracy is= 0.85\n"
     ]
    },
    {
     "data": {
      "text/plain": [
       "<matplotlib.text.Text at 0xb314df0>"
      ]
     },
     "execution_count": 156,
     "metadata": {},
     "output_type": "execute_result"
    },
    {
     "data": {
      "image/png": "[encoded data removed]",
      "text/plain": [
       "<matplotlib.figure.Figure at 0xb2e6eb0>"
      ]
     },
     "metadata": {},
     "output_type": "display_data"
    }
   ],
   "source": [
    "#Finding the best k value\n",
    "k_range = range(1,49)\n",
    "\n",
    "accuracy = []\n",
    "\n",
    "for k in k_range:\n",
    "    knn = KNeighborsClassifier(n_neighbors=k)\n",
    "    knn.fit(X_train,Y_train)\n",
    "    Y_pred = knn.predict(X_test)\n",
    "    accuracy.append(metrics.accuracy_score(Y_test,Y_pred))\n",
    "    print (\"For k=\",k,\" | Accuracy is=\",metrics.accuracy_score(Y_test,Y_pred))\n",
    "\n",
    "plt.plot(k_range,accuracy)\n",
    "plt.xlabel('K value')\n",
    "plt.ylabel('Testing Accuracy')\n"
   ]
  },
  {
   "cell_type": "code",
   "execution_count": 135,
   "metadata": {
    "collapsed": false
   },
   "outputs": [],
   "source": [
    "#Prepare the data without Category2\n",
    "SL=np.hstack((np.matrix(df_iris.sl[0:50]),np.matrix(df_iris.sl[100:150])))\n",
    "SW=np.hstack((np.matrix(df_iris.sw[0:50]),np.matrix(df_iris.sw[100:150])))\n",
    "PL=np.hstack((np.matrix(df_iris.pl[0:50]),np.matrix(df_iris.pl[100:150])))\n",
    "PW=np.hstack((np.matrix(df_iris.pw[0:50]),np.matrix(df_iris.pw[100:150])))\n",
    "X2=np.hstack([np.matrix(SL).T,np.matrix(SW).T,np.matrix(PL).T,np.matrix(PW).T])\n",
    "\n",
    "C=np.hstack((np.matrix(df_iris.c[0:50]),np.matrix(df_iris.c[100:150])))\n",
    "Y2=np.array(C).reshape(100,)\n"
   ]
  },
  {
   "cell_type": "code",
   "execution_count": 157,
   "metadata": {
    "collapsed": false
   },
   "outputs": [
    {
     "name": "stdout",
     "output_type": "stream",
     "text": [
      "0 . row Category [1]\n",
      "1 . row Category [1]\n",
      "2 . row Category [1]\n",
      "3 . row Category [1]\n",
      "4 . row Category [1]\n",
      "5 . row Category [1]\n",
      "6 . row Category [1]\n",
      "7 . row Category [1]\n",
      "8 . row Category [1]\n",
      "9 . row Category [1]\n",
      "10 . row Category [1]\n",
      "11 . row Category [1]\n",
      "12 . row Category [1]\n",
      "13 . row Category [1]\n",
      "14 . row Category [1]\n",
      "15 . row Category [1]\n",
      "16 . row Category [1]\n",
      "17 . row Category [1]\n",
      "18 . row Category [1]\n",
      "19 . row Category [1]\n",
      "20 . row Category [1]\n",
      "21 . row Category [1]\n",
      "22 . row Category [1]\n",
      "23 . row Category [1]\n",
      "24 . row Category [1]\n",
      "25 . row Category [1]\n",
      "26 . row Category [1]\n",
      "27 . row Category [1]\n",
      "28 . row Category [1]\n",
      "29 . row Category [1]\n",
      "30 . row Category [1]\n",
      "31 . row Category [1]\n",
      "32 . row Category [1]\n",
      "33 . row Category [1]\n",
      "34 . row Category [1]\n",
      "35 . row Category [1]\n",
      "36 . row Category [1]\n",
      "37 . row Category [1]\n",
      "38 . row Category [1]\n",
      "39 . row Category [1]\n",
      "40 . row Category [1]\n",
      "41 . row Category [1]\n",
      "42 . row Category [1]\n",
      "43 . row Category [1]\n",
      "44 . row Category [1]\n",
      "45 . row Category [1]\n",
      "46 . row Category [1]\n",
      "47 . row Category [1]\n",
      "48 . row Category [1]\n",
      "49 . row Category [1]\n",
      "50 . row Category [3]\n",
      "51 . row Category [3]\n",
      "52 . row Category [3]\n",
      "53 . row Category [3]\n",
      "54 . row Category [3]\n",
      "55 . row Category [3]\n",
      "56 . row Category [3]\n",
      "57 . row Category [1]\n",
      "58 . row Category [3]\n",
      "59 . row Category [3]\n",
      "60 . row Category [1]\n",
      "61 . row Category [3]\n",
      "62 . row Category [3]\n",
      "63 . row Category [3]\n",
      "64 . row Category [3]\n",
      "65 . row Category [3]\n",
      "66 . row Category [3]\n",
      "67 . row Category [3]\n",
      "68 . row Category [3]\n",
      "69 . row Category [3]\n",
      "70 . row Category [3]\n",
      "71 . row Category [3]\n",
      "72 . row Category [3]\n",
      "73 . row Category [3]\n",
      "74 . row Category [3]\n",
      "75 . row Category [3]\n",
      "76 . row Category [3]\n",
      "77 . row Category [3]\n",
      "78 . row Category [3]\n",
      "79 . row Category [3]\n",
      "80 . row Category [3]\n",
      "81 . row Category [3]\n",
      "82 . row Category [3]\n",
      "83 . row Category [3]\n",
      "84 . row Category [3]\n",
      "85 . row Category [3]\n",
      "86 . row Category [3]\n",
      "87 . row Category [3]\n",
      "88 . row Category [3]\n",
      "89 . row Category [3]\n",
      "90 . row Category [3]\n",
      "91 . row Category [3]\n",
      "92 . row Category [3]\n",
      "93 . row Category [1]\n",
      "94 . row Category [3]\n",
      "95 . row Category [3]\n",
      "96 . row Category [3]\n",
      "97 . row Category [3]\n",
      "98 . row Category [1]\n",
      "99 . row Category [3]\n",
      "100 . row Category [3]\n",
      "101 . row Category [3]\n",
      "102 . row Category [3]\n",
      "103 . row Category [3]\n",
      "104 . row Category [3]\n",
      "105 . row Category [3]\n",
      "106 . row Category [3]\n",
      "107 . row Category [3]\n",
      "108 . row Category [3]\n",
      "109 . row Category [3]\n",
      "110 . row Category [3]\n",
      "111 . row Category [3]\n",
      "112 . row Category [3]\n",
      "113 . row Category [3]\n",
      "114 . row Category [3]\n",
      "115 . row Category [3]\n",
      "116 . row Category [3]\n",
      "117 . row Category [3]\n",
      "118 . row Category [3]\n",
      "119 . row Category [3]\n",
      "120 . row Category [3]\n",
      "121 . row Category [3]\n",
      "122 . row Category [3]\n",
      "123 . row Category [3]\n",
      "124 . row Category [3]\n",
      "125 . row Category [3]\n",
      "126 . row Category [3]\n",
      "127 . row Category [3]\n",
      "128 . row Category [3]\n",
      "129 . row Category [3]\n",
      "130 . row Category [3]\n",
      "131 . row Category [3]\n",
      "132 . row Category [3]\n",
      "133 . row Category [3]\n",
      "134 . row Category [3]\n",
      "135 . row Category [3]\n",
      "136 . row Category [3]\n",
      "137 . row Category [3]\n",
      "138 . row Category [3]\n",
      "139 . row Category [3]\n",
      "140 . row Category [3]\n",
      "141 . row Category [3]\n",
      "142 . row Category [3]\n",
      "143 . row Category [3]\n",
      "144 . row Category [3]\n",
      "145 . row Category [3]\n",
      "146 . row Category [3]\n",
      "147 . row Category [3]\n",
      "148 . row Category [3]\n",
      "149 . row Category [3]\n"
     ]
    }
   ],
   "source": [
    "#Define test data\n",
    "X_train,X_test,Y_train,Y_test = train_test_split(X2,Y2,test_size = 0.4,random_state=3)\n",
    "\n",
    "# Assume k=15\n",
    "knn=KNeighborsClassifier(n_neighbors=15)\n",
    "knn.fit(X_train,Y_train)\n",
    "\n",
    "#Find the categories of all data based on kNN Algorithm (row50-149 represents the Category2)\n",
    "index_range = range(0,150)\n",
    "\n",
    "\n",
    "for index in index_range:\n",
    "    print (index,\". row\",\"Category\",knn.predict(X[index]))\n"
   ]
  }
 ],
 "metadata": {
  "kernelspec": {
   "display_name": "Python 3",
   "language": "python",
   "name": "python3"
  },
  "language_info": {
   "codemirror_mode": {
    "name": "ipython",
    "version": 3
   },
   "file_extension": ".py",
   "mimetype": "text/x-python",
   "name": "python",
   "nbconvert_exporter": "python",
   "pygments_lexer": "ipython3",
   "version": "3.5.1"
  }
 },
 "nbformat": 4,
 "nbformat_minor": 0
}
